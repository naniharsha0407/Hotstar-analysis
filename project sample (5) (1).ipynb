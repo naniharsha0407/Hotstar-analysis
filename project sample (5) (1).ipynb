{
 "cells": [
  {
   "cell_type": "markdown",
   "id": "99c63545",
   "metadata": {},
   "source": []
  },
  {
   "cell_type": "code",
   "execution_count": 1,
   "id": "9f9ad4c4",
   "metadata": {},
   "outputs": [],
   "source": [
    "# importing pandas  and nummpy\n",
    "\n",
    "import pandas as pd\n",
    "import numpy as np"
   ]
  },
  {
   "cell_type": "code",
   "execution_count": 2,
   "id": "5b12a162",
   "metadata": {},
   "outputs": [],
   "source": [
    "# importing seaborn and matplotlib\n",
    "import seaborn as sns\n",
    "import matplotlib.pyplot as plt"
   ]
  },
  {
   "cell_type": "markdown",
   "id": "2e1ada92",
   "metadata": {},
   "source": [
    "### Pandas\n",
    "- Pandas is a fast, powerful, flexible and easy to use open source data analysis and manipulation tool,built on top of the Python programming language.\n",
    "### Numpy\n",
    "- NumPy is a Python library used for working with arrays.\n",
    "- It also has functions for working in domain of linear algebra, fourier transform, and matrices.\n",
    "### Matplotlib\n",
    "- Matplotlib is a comprehensive library for creating static, animated, and interactive visualizations in Python. Matplotlib makes easy things easy and hard things possible.\n",
    "### Seaborn\n",
    "- Seaborn is a library that uses Matplotlib underneath to plot graphs. It will be used to visualize random distributions."
   ]
  },
  {
   "cell_type": "markdown",
   "id": "ddac6b4e",
   "metadata": {},
   "source": [
    "## Visualizing dataset"
   ]
  },
  {
   "cell_type": "code",
   "execution_count": 3,
   "id": "d02c25d3",
   "metadata": {},
   "outputs": [
    {
     "data": {
      "text/html": [
       "<div>\n",
       "<style scoped>\n",
       "    .dataframe tbody tr th:only-of-type {\n",
       "        vertical-align: middle;\n",
       "    }\n",
       "\n",
       "    .dataframe tbody tr th {\n",
       "        vertical-align: top;\n",
       "    }\n",
       "\n",
       "    .dataframe thead th {\n",
       "        text-align: right;\n",
       "    }\n",
       "</style>\n",
       "<table border=\"1\" class=\"dataframe\">\n",
       "  <thead>\n",
       "    <tr style=\"text-align: right;\">\n",
       "      <th></th>\n",
       "      <th>hotstar_id</th>\n",
       "      <th>title</th>\n",
       "      <th>description</th>\n",
       "      <th>genre</th>\n",
       "      <th>year</th>\n",
       "      <th>age_rating</th>\n",
       "      <th>running_time</th>\n",
       "      <th>seasons</th>\n",
       "      <th>episodes</th>\n",
       "      <th>type</th>\n",
       "    </tr>\n",
       "  </thead>\n",
       "  <tbody>\n",
       "    <tr>\n",
       "      <th>0</th>\n",
       "      <td>1835064133</td>\n",
       "      <td>The Ring</td>\n",
       "      <td>Mutually divorced Aman emotionally struggles t...</td>\n",
       "      <td>Drama</td>\n",
       "      <td>2021</td>\n",
       "      <td>U/A 13+</td>\n",
       "      <td>17.0</td>\n",
       "      <td>NaN</td>\n",
       "      <td>NaN</td>\n",
       "      <td>movie</td>\n",
       "    </tr>\n",
       "    <tr>\n",
       "      <th>1</th>\n",
       "      <td>1260015636</td>\n",
       "      <td>Jesus: Rise To Power And Birth Of Christianity</td>\n",
       "      <td>A journey across the historic landscapes of th...</td>\n",
       "      <td>Documentary</td>\n",
       "      <td>2019</td>\n",
       "      <td>U/A 13+</td>\n",
       "      <td>42.0</td>\n",
       "      <td>NaN</td>\n",
       "      <td>NaN</td>\n",
       "      <td>movie</td>\n",
       "    </tr>\n",
       "    <tr>\n",
       "      <th>2</th>\n",
       "      <td>1000070418</td>\n",
       "      <td>Yama Muduru</td>\n",
       "      <td>Krishna Kumar is popular in college for his mu...</td>\n",
       "      <td>Drama</td>\n",
       "      <td>2009</td>\n",
       "      <td>U/A 13+</td>\n",
       "      <td>129.0</td>\n",
       "      <td>NaN</td>\n",
       "      <td>NaN</td>\n",
       "      <td>movie</td>\n",
       "    </tr>\n",
       "    <tr>\n",
       "      <th>3</th>\n",
       "      <td>1770000804</td>\n",
       "      <td>X-Men: The Last Stand</td>\n",
       "      <td>When humans find a cure for mutation, Professo...</td>\n",
       "      <td>Superhero</td>\n",
       "      <td>2006</td>\n",
       "      <td>U/A 13+</td>\n",
       "      <td>103.0</td>\n",
       "      <td>NaN</td>\n",
       "      <td>NaN</td>\n",
       "      <td>movie</td>\n",
       "    </tr>\n",
       "    <tr>\n",
       "      <th>4</th>\n",
       "      <td>1770005017</td>\n",
       "      <td>Mangalyaan: India's Mission To Mars</td>\n",
       "      <td>In this special, watch the 650 million km jour...</td>\n",
       "      <td>Documentary</td>\n",
       "      <td>2017</td>\n",
       "      <td>U</td>\n",
       "      <td>44.0</td>\n",
       "      <td>NaN</td>\n",
       "      <td>NaN</td>\n",
       "      <td>movie</td>\n",
       "    </tr>\n",
       "    <tr>\n",
       "      <th>...</th>\n",
       "      <td>...</td>\n",
       "      <td>...</td>\n",
       "      <td>...</td>\n",
       "      <td>...</td>\n",
       "      <td>...</td>\n",
       "      <td>...</td>\n",
       "      <td>...</td>\n",
       "      <td>...</td>\n",
       "      <td>...</td>\n",
       "      <td>...</td>\n",
       "    </tr>\n",
       "    <tr>\n",
       "      <th>6354</th>\n",
       "      <td>18211</td>\n",
       "      <td>MS Dhoni - Reimagined Hindi</td>\n",
       "      <td>MS Dhoni's career reimagined, watch streaming ...</td>\n",
       "      <td>Sport</td>\n",
       "      <td>2018</td>\n",
       "      <td>U/A 13+</td>\n",
       "      <td>NaN</td>\n",
       "      <td>1.0</td>\n",
       "      <td>1.0</td>\n",
       "      <td>tv</td>\n",
       "    </tr>\n",
       "    <tr>\n",
       "      <th>6355</th>\n",
       "      <td>1260063600</td>\n",
       "      <td>Sasneham</td>\n",
       "      <td>An old-age home reunites past lovers Indira an...</td>\n",
       "      <td>Drama</td>\n",
       "      <td>2021</td>\n",
       "      <td>U/A 13+</td>\n",
       "      <td>NaN</td>\n",
       "      <td>1.0</td>\n",
       "      <td>345.0</td>\n",
       "      <td>tv</td>\n",
       "    </tr>\n",
       "    <tr>\n",
       "      <th>6356</th>\n",
       "      <td>1260071152</td>\n",
       "      <td>Bolo Ambe Maa Ki Jai</td>\n",
       "      <td>Narrated by Saptarishi, celebrate Navratri wit...</td>\n",
       "      <td>Mythology</td>\n",
       "      <td>2021</td>\n",
       "      <td>U/A 13+</td>\n",
       "      <td>NaN</td>\n",
       "      <td>1.0</td>\n",
       "      <td>5.0</td>\n",
       "      <td>tv</td>\n",
       "    </tr>\n",
       "    <tr>\n",
       "      <th>6357</th>\n",
       "      <td>1260002656</td>\n",
       "      <td>Ambi Ning Vaisaytho Specials</td>\n",
       "      <td>Catch all the fun, gossips, and anecdotes from...</td>\n",
       "      <td>Reality</td>\n",
       "      <td>2018</td>\n",
       "      <td>G</td>\n",
       "      <td>NaN</td>\n",
       "      <td>1.0</td>\n",
       "      <td>1.0</td>\n",
       "      <td>tv</td>\n",
       "    </tr>\n",
       "    <tr>\n",
       "      <th>6358</th>\n",
       "      <td>1260003179</td>\n",
       "      <td>Dil Toh Happy Hai Ji</td>\n",
       "      <td>Based in Amritsar, this is a joyful tale of fr...</td>\n",
       "      <td>Drama</td>\n",
       "      <td>2019</td>\n",
       "      <td>U/A 13+</td>\n",
       "      <td>NaN</td>\n",
       "      <td>1.0</td>\n",
       "      <td>148.0</td>\n",
       "      <td>tv</td>\n",
       "    </tr>\n",
       "  </tbody>\n",
       "</table>\n",
       "<p>6359 rows × 10 columns</p>\n",
       "</div>"
      ],
      "text/plain": [
       "      hotstar_id                                           title  \\\n",
       "0     1835064133                                        The Ring   \n",
       "1     1260015636  Jesus: Rise To Power And Birth Of Christianity   \n",
       "2     1000070418                                     Yama Muduru   \n",
       "3     1770000804                           X-Men: The Last Stand   \n",
       "4     1770005017             Mangalyaan: India's Mission To Mars   \n",
       "...          ...                                             ...   \n",
       "6354       18211                     MS Dhoni - Reimagined Hindi   \n",
       "6355  1260063600                                        Sasneham   \n",
       "6356  1260071152                            Bolo Ambe Maa Ki Jai   \n",
       "6357  1260002656                    Ambi Ning Vaisaytho Specials   \n",
       "6358  1260003179                            Dil Toh Happy Hai Ji   \n",
       "\n",
       "                                            description        genre  year  \\\n",
       "0     Mutually divorced Aman emotionally struggles t...        Drama  2021   \n",
       "1     A journey across the historic landscapes of th...  Documentary  2019   \n",
       "2     Krishna Kumar is popular in college for his mu...        Drama  2009   \n",
       "3     When humans find a cure for mutation, Professo...    Superhero  2006   \n",
       "4     In this special, watch the 650 million km jour...  Documentary  2017   \n",
       "...                                                 ...          ...   ...   \n",
       "6354  MS Dhoni's career reimagined, watch streaming ...        Sport  2018   \n",
       "6355  An old-age home reunites past lovers Indira an...        Drama  2021   \n",
       "6356  Narrated by Saptarishi, celebrate Navratri wit...    Mythology  2021   \n",
       "6357  Catch all the fun, gossips, and anecdotes from...      Reality  2018   \n",
       "6358  Based in Amritsar, this is a joyful tale of fr...        Drama  2019   \n",
       "\n",
       "     age_rating  running_time  seasons  episodes   type  \n",
       "0       U/A 13+          17.0      NaN       NaN  movie  \n",
       "1       U/A 13+          42.0      NaN       NaN  movie  \n",
       "2       U/A 13+         129.0      NaN       NaN  movie  \n",
       "3       U/A 13+         103.0      NaN       NaN  movie  \n",
       "4             U          44.0      NaN       NaN  movie  \n",
       "...         ...           ...      ...       ...    ...  \n",
       "6354    U/A 13+           NaN      1.0       1.0     tv  \n",
       "6355    U/A 13+           NaN      1.0     345.0     tv  \n",
       "6356    U/A 13+           NaN      1.0       5.0     tv  \n",
       "6357          G           NaN      1.0       1.0     tv  \n",
       "6358    U/A 13+           NaN      1.0     148.0     tv  \n",
       "\n",
       "[6359 rows x 10 columns]"
      ]
     },
     "execution_count": 3,
     "metadata": {},
     "output_type": "execute_result"
    }
   ],
   "source": [
    "# importing csv file into the notebook using pandas\n",
    "\n",
    "data = pd.read_csv(\"hotstar.csv\")\n",
    "data"
   ]
  },
  {
   "cell_type": "code",
   "execution_count": 4,
   "id": "43586c9e",
   "metadata": {},
   "outputs": [
    {
     "data": {
      "text/html": [
       "<div>\n",
       "<style scoped>\n",
       "    .dataframe tbody tr th:only-of-type {\n",
       "        vertical-align: middle;\n",
       "    }\n",
       "\n",
       "    .dataframe tbody tr th {\n",
       "        vertical-align: top;\n",
       "    }\n",
       "\n",
       "    .dataframe thead th {\n",
       "        text-align: right;\n",
       "    }\n",
       "</style>\n",
       "<table border=\"1\" class=\"dataframe\">\n",
       "  <thead>\n",
       "    <tr style=\"text-align: right;\">\n",
       "      <th></th>\n",
       "      <th>title</th>\n",
       "      <th>description</th>\n",
       "      <th>genre</th>\n",
       "      <th>year</th>\n",
       "      <th>age_rating</th>\n",
       "      <th>running_time</th>\n",
       "      <th>seasons</th>\n",
       "      <th>episodes</th>\n",
       "      <th>type</th>\n",
       "    </tr>\n",
       "    <tr>\n",
       "      <th>hotstar_id</th>\n",
       "      <th></th>\n",
       "      <th></th>\n",
       "      <th></th>\n",
       "      <th></th>\n",
       "      <th></th>\n",
       "      <th></th>\n",
       "      <th></th>\n",
       "      <th></th>\n",
       "      <th></th>\n",
       "    </tr>\n",
       "  </thead>\n",
       "  <tbody>\n",
       "    <tr>\n",
       "      <th>1835064133</th>\n",
       "      <td>The Ring</td>\n",
       "      <td>Mutually divorced Aman emotionally struggles t...</td>\n",
       "      <td>Drama</td>\n",
       "      <td>2021</td>\n",
       "      <td>U/A 13+</td>\n",
       "      <td>17.0</td>\n",
       "      <td>NaN</td>\n",
       "      <td>NaN</td>\n",
       "      <td>movie</td>\n",
       "    </tr>\n",
       "    <tr>\n",
       "      <th>1260015636</th>\n",
       "      <td>Jesus: Rise To Power And Birth Of Christianity</td>\n",
       "      <td>A journey across the historic landscapes of th...</td>\n",
       "      <td>Documentary</td>\n",
       "      <td>2019</td>\n",
       "      <td>U/A 13+</td>\n",
       "      <td>42.0</td>\n",
       "      <td>NaN</td>\n",
       "      <td>NaN</td>\n",
       "      <td>movie</td>\n",
       "    </tr>\n",
       "    <tr>\n",
       "      <th>1000070418</th>\n",
       "      <td>Yama Muduru</td>\n",
       "      <td>Krishna Kumar is popular in college for his mu...</td>\n",
       "      <td>Drama</td>\n",
       "      <td>2009</td>\n",
       "      <td>U/A 13+</td>\n",
       "      <td>129.0</td>\n",
       "      <td>NaN</td>\n",
       "      <td>NaN</td>\n",
       "      <td>movie</td>\n",
       "    </tr>\n",
       "    <tr>\n",
       "      <th>1770000804</th>\n",
       "      <td>X-Men: The Last Stand</td>\n",
       "      <td>When humans find a cure for mutation, Professo...</td>\n",
       "      <td>Superhero</td>\n",
       "      <td>2006</td>\n",
       "      <td>U/A 13+</td>\n",
       "      <td>103.0</td>\n",
       "      <td>NaN</td>\n",
       "      <td>NaN</td>\n",
       "      <td>movie</td>\n",
       "    </tr>\n",
       "    <tr>\n",
       "      <th>1770005017</th>\n",
       "      <td>Mangalyaan: India's Mission To Mars</td>\n",
       "      <td>In this special, watch the 650 million km jour...</td>\n",
       "      <td>Documentary</td>\n",
       "      <td>2017</td>\n",
       "      <td>U</td>\n",
       "      <td>44.0</td>\n",
       "      <td>NaN</td>\n",
       "      <td>NaN</td>\n",
       "      <td>movie</td>\n",
       "    </tr>\n",
       "  </tbody>\n",
       "</table>\n",
       "</div>"
      ],
      "text/plain": [
       "                                                     title  \\\n",
       "hotstar_id                                                   \n",
       "1835064133                                        The Ring   \n",
       "1260015636  Jesus: Rise To Power And Birth Of Christianity   \n",
       "1000070418                                     Yama Muduru   \n",
       "1770000804                           X-Men: The Last Stand   \n",
       "1770005017             Mangalyaan: India's Mission To Mars   \n",
       "\n",
       "                                                  description        genre  \\\n",
       "hotstar_id                                                                   \n",
       "1835064133  Mutually divorced Aman emotionally struggles t...        Drama   \n",
       "1260015636  A journey across the historic landscapes of th...  Documentary   \n",
       "1000070418  Krishna Kumar is popular in college for his mu...        Drama   \n",
       "1770000804  When humans find a cure for mutation, Professo...    Superhero   \n",
       "1770005017  In this special, watch the 650 million km jour...  Documentary   \n",
       "\n",
       "            year age_rating  running_time  seasons  episodes   type  \n",
       "hotstar_id                                                           \n",
       "1835064133  2021    U/A 13+          17.0      NaN       NaN  movie  \n",
       "1260015636  2019    U/A 13+          42.0      NaN       NaN  movie  \n",
       "1000070418  2009    U/A 13+         129.0      NaN       NaN  movie  \n",
       "1770000804  2006    U/A 13+         103.0      NaN       NaN  movie  \n",
       "1770005017  2017          U          44.0      NaN       NaN  movie  "
      ]
     },
     "execution_count": 4,
     "metadata": {},
     "output_type": "execute_result"
    }
   ],
   "source": [
    "data.set_index(\"hotstar_id\",inplace=True)\n",
    "data.head()"
   ]
  },
  {
   "cell_type": "code",
   "execution_count": 5,
   "id": "b327bcd4",
   "metadata": {},
   "outputs": [
    {
     "data": {
      "text/html": [
       "<div>\n",
       "<style scoped>\n",
       "    .dataframe tbody tr th:only-of-type {\n",
       "        vertical-align: middle;\n",
       "    }\n",
       "\n",
       "    .dataframe tbody tr th {\n",
       "        vertical-align: top;\n",
       "    }\n",
       "\n",
       "    .dataframe thead th {\n",
       "        text-align: right;\n",
       "    }\n",
       "</style>\n",
       "<table border=\"1\" class=\"dataframe\">\n",
       "  <thead>\n",
       "    <tr style=\"text-align: right;\">\n",
       "      <th></th>\n",
       "      <th>title</th>\n",
       "      <th>description</th>\n",
       "      <th>genre</th>\n",
       "      <th>year</th>\n",
       "      <th>age_rating</th>\n",
       "      <th>running_time</th>\n",
       "      <th>seasons</th>\n",
       "      <th>episodes</th>\n",
       "      <th>type</th>\n",
       "    </tr>\n",
       "    <tr>\n",
       "      <th>hotstar_id</th>\n",
       "      <th></th>\n",
       "      <th></th>\n",
       "      <th></th>\n",
       "      <th></th>\n",
       "      <th></th>\n",
       "      <th></th>\n",
       "      <th></th>\n",
       "      <th></th>\n",
       "      <th></th>\n",
       "    </tr>\n",
       "  </thead>\n",
       "  <tbody>\n",
       "    <tr>\n",
       "      <th>18211</th>\n",
       "      <td>MS Dhoni - Reimagined Hindi</td>\n",
       "      <td>MS Dhoni's career reimagined, watch streaming ...</td>\n",
       "      <td>Sport</td>\n",
       "      <td>2018</td>\n",
       "      <td>U/A 13+</td>\n",
       "      <td>NaN</td>\n",
       "      <td>1.0</td>\n",
       "      <td>1.0</td>\n",
       "      <td>tv</td>\n",
       "    </tr>\n",
       "    <tr>\n",
       "      <th>1260063600</th>\n",
       "      <td>Sasneham</td>\n",
       "      <td>An old-age home reunites past lovers Indira an...</td>\n",
       "      <td>Drama</td>\n",
       "      <td>2021</td>\n",
       "      <td>U/A 13+</td>\n",
       "      <td>NaN</td>\n",
       "      <td>1.0</td>\n",
       "      <td>345.0</td>\n",
       "      <td>tv</td>\n",
       "    </tr>\n",
       "    <tr>\n",
       "      <th>1260071152</th>\n",
       "      <td>Bolo Ambe Maa Ki Jai</td>\n",
       "      <td>Narrated by Saptarishi, celebrate Navratri wit...</td>\n",
       "      <td>Mythology</td>\n",
       "      <td>2021</td>\n",
       "      <td>U/A 13+</td>\n",
       "      <td>NaN</td>\n",
       "      <td>1.0</td>\n",
       "      <td>5.0</td>\n",
       "      <td>tv</td>\n",
       "    </tr>\n",
       "    <tr>\n",
       "      <th>1260002656</th>\n",
       "      <td>Ambi Ning Vaisaytho Specials</td>\n",
       "      <td>Catch all the fun, gossips, and anecdotes from...</td>\n",
       "      <td>Reality</td>\n",
       "      <td>2018</td>\n",
       "      <td>G</td>\n",
       "      <td>NaN</td>\n",
       "      <td>1.0</td>\n",
       "      <td>1.0</td>\n",
       "      <td>tv</td>\n",
       "    </tr>\n",
       "    <tr>\n",
       "      <th>1260003179</th>\n",
       "      <td>Dil Toh Happy Hai Ji</td>\n",
       "      <td>Based in Amritsar, this is a joyful tale of fr...</td>\n",
       "      <td>Drama</td>\n",
       "      <td>2019</td>\n",
       "      <td>U/A 13+</td>\n",
       "      <td>NaN</td>\n",
       "      <td>1.0</td>\n",
       "      <td>148.0</td>\n",
       "      <td>tv</td>\n",
       "    </tr>\n",
       "  </tbody>\n",
       "</table>\n",
       "</div>"
      ],
      "text/plain": [
       "                                   title  \\\n",
       "hotstar_id                                 \n",
       "18211        MS Dhoni - Reimagined Hindi   \n",
       "1260063600                      Sasneham   \n",
       "1260071152          Bolo Ambe Maa Ki Jai   \n",
       "1260002656  Ambi Ning Vaisaytho Specials   \n",
       "1260003179          Dil Toh Happy Hai Ji   \n",
       "\n",
       "                                                  description      genre  \\\n",
       "hotstar_id                                                                 \n",
       "18211       MS Dhoni's career reimagined, watch streaming ...      Sport   \n",
       "1260063600  An old-age home reunites past lovers Indira an...      Drama   \n",
       "1260071152  Narrated by Saptarishi, celebrate Navratri wit...  Mythology   \n",
       "1260002656  Catch all the fun, gossips, and anecdotes from...    Reality   \n",
       "1260003179  Based in Amritsar, this is a joyful tale of fr...      Drama   \n",
       "\n",
       "            year age_rating  running_time  seasons  episodes type  \n",
       "hotstar_id                                                         \n",
       "18211       2018    U/A 13+           NaN      1.0       1.0   tv  \n",
       "1260063600  2021    U/A 13+           NaN      1.0     345.0   tv  \n",
       "1260071152  2021    U/A 13+           NaN      1.0       5.0   tv  \n",
       "1260002656  2018          G           NaN      1.0       1.0   tv  \n",
       "1260003179  2019    U/A 13+           NaN      1.0     148.0   tv  "
      ]
     },
     "execution_count": 5,
     "metadata": {},
     "output_type": "execute_result"
    }
   ],
   "source": [
    "#getting last 5 rows of the dataset \n",
    "data.tail()"
   ]
  },
  {
   "cell_type": "code",
   "execution_count": 6,
   "id": "bba1cb65",
   "metadata": {},
   "outputs": [
    {
     "data": {
      "text/html": [
       "<div>\n",
       "<style scoped>\n",
       "    .dataframe tbody tr th:only-of-type {\n",
       "        vertical-align: middle;\n",
       "    }\n",
       "\n",
       "    .dataframe tbody tr th {\n",
       "        vertical-align: top;\n",
       "    }\n",
       "\n",
       "    .dataframe thead th {\n",
       "        text-align: right;\n",
       "    }\n",
       "</style>\n",
       "<table border=\"1\" class=\"dataframe\">\n",
       "  <thead>\n",
       "    <tr style=\"text-align: right;\">\n",
       "      <th></th>\n",
       "      <th>year</th>\n",
       "      <th>running_time</th>\n",
       "      <th>seasons</th>\n",
       "      <th>episodes</th>\n",
       "    </tr>\n",
       "  </thead>\n",
       "  <tbody>\n",
       "    <tr>\n",
       "      <th>count</th>\n",
       "      <td>6359.000000</td>\n",
       "      <td>6344.000000</td>\n",
       "      <td>2171.000000</td>\n",
       "      <td>2171.000000</td>\n",
       "    </tr>\n",
       "    <tr>\n",
       "      <th>mean</th>\n",
       "      <td>2010.908162</td>\n",
       "      <td>117.529004</td>\n",
       "      <td>2.744357</td>\n",
       "      <td>126.118839</td>\n",
       "    </tr>\n",
       "    <tr>\n",
       "      <th>std</th>\n",
       "      <td>12.025939</td>\n",
       "      <td>46.685953</td>\n",
       "      <td>5.065703</td>\n",
       "      <td>253.941213</td>\n",
       "    </tr>\n",
       "    <tr>\n",
       "      <th>min</th>\n",
       "      <td>1928.000000</td>\n",
       "      <td>1.000000</td>\n",
       "      <td>1.000000</td>\n",
       "      <td>1.000000</td>\n",
       "    </tr>\n",
       "    <tr>\n",
       "      <th>25%</th>\n",
       "      <td>2008.000000</td>\n",
       "      <td>99.000000</td>\n",
       "      <td>1.000000</td>\n",
       "      <td>6.000000</td>\n",
       "    </tr>\n",
       "    <tr>\n",
       "      <th>50%</th>\n",
       "      <td>2015.000000</td>\n",
       "      <td>127.000000</td>\n",
       "      <td>1.000000</td>\n",
       "      <td>24.000000</td>\n",
       "    </tr>\n",
       "    <tr>\n",
       "      <th>75%</th>\n",
       "      <td>2019.000000</td>\n",
       "      <td>147.000000</td>\n",
       "      <td>2.000000</td>\n",
       "      <td>131.500000</td>\n",
       "    </tr>\n",
       "    <tr>\n",
       "      <th>max</th>\n",
       "      <td>2022.000000</td>\n",
       "      <td>330.000000</td>\n",
       "      <td>73.000000</td>\n",
       "      <td>3792.000000</td>\n",
       "    </tr>\n",
       "  </tbody>\n",
       "</table>\n",
       "</div>"
      ],
      "text/plain": [
       "              year  running_time      seasons     episodes\n",
       "count  6359.000000   6344.000000  2171.000000  2171.000000\n",
       "mean   2010.908162    117.529004     2.744357   126.118839\n",
       "std      12.025939     46.685953     5.065703   253.941213\n",
       "min    1928.000000      1.000000     1.000000     1.000000\n",
       "25%    2008.000000     99.000000     1.000000     6.000000\n",
       "50%    2015.000000    127.000000     1.000000    24.000000\n",
       "75%    2019.000000    147.000000     2.000000   131.500000\n",
       "max    2022.000000    330.000000    73.000000  3792.000000"
      ]
     },
     "execution_count": 6,
     "metadata": {},
     "output_type": "execute_result"
    }
   ],
   "source": [
    "#getting statistical data using describe \n",
    "data.describe()"
   ]
  },
  {
   "cell_type": "code",
   "execution_count": 7,
   "id": "f694104f",
   "metadata": {},
   "outputs": [
    {
     "data": {
      "text/plain": [
       "(6359, 9)"
      ]
     },
     "execution_count": 7,
     "metadata": {},
     "output_type": "execute_result"
    }
   ],
   "source": [
    "#finding number of rows and number of columns present in the data set using shape\n",
    "\n",
    "data.shape\n"
   ]
  },
  {
   "cell_type": "code",
   "execution_count": 8,
   "id": "f88b3ced",
   "metadata": {},
   "outputs": [
    {
     "name": "stdout",
     "output_type": "stream",
     "text": [
      "<class 'pandas.core.frame.DataFrame'>\n",
      "Int64Index: 6359 entries, 1835064133 to 1260003179\n",
      "Data columns (total 9 columns):\n",
      " #   Column        Non-Null Count  Dtype  \n",
      "---  ------        --------------  -----  \n",
      " 0   title         6359 non-null   object \n",
      " 1   description   6359 non-null   object \n",
      " 2   genre         6359 non-null   object \n",
      " 3   year          6359 non-null   int64  \n",
      " 4   age_rating    6359 non-null   object \n",
      " 5   running_time  6344 non-null   float64\n",
      " 6   seasons       2171 non-null   float64\n",
      " 7   episodes      2171 non-null   float64\n",
      " 8   type          6359 non-null   object \n",
      "dtypes: float64(3), int64(1), object(5)\n",
      "memory usage: 496.8+ KB\n"
     ]
    }
   ],
   "source": [
    "#finding information using data.info()\n",
    "data.info()"
   ]
  },
  {
   "cell_type": "code",
   "execution_count": 9,
   "id": "1b1e401a",
   "metadata": {},
   "outputs": [
    {
     "data": {
      "text/plain": [
       "title            object\n",
       "description      object\n",
       "genre            object\n",
       "year              int64\n",
       "age_rating       object\n",
       "running_time    float64\n",
       "seasons         float64\n",
       "episodes        float64\n",
       "type             object\n",
       "dtype: object"
      ]
     },
     "execution_count": 9,
     "metadata": {},
     "output_type": "execute_result"
    }
   ],
   "source": [
    "#finding which type of datasets are there in the data set using dtypes\n",
    "data.dtypes"
   ]
  },
  {
   "cell_type": "markdown",
   "id": "8becab6b",
   "metadata": {},
   "source": [
    "## DATA CLEANING \n",
    "### In statistics, missing data, or missing values, occur when no data value is stored for the variable in an observation.\n",
    "## Filling null values by finding mean mode and median value of respective columns"
   ]
  },
  {
   "cell_type": "code",
   "execution_count": 10,
   "id": "561096e6",
   "metadata": {},
   "outputs": [
    {
     "data": {
      "text/plain": [
       "array([nan, 13.,  1.,  3.,  7.,  2., 10.,  5.,  4., 33.,  9.,  6.,  8.,\n",
       "       43., 18., 17., 23., 21., 16., 14., 28., 11., 12., 36., 53., 73.,\n",
       "       24., 27., 35., 22., 15., 19., 34., 45., 67., 20., 29., 25., 38.,\n",
       "       30., 31., 26.])"
      ]
     },
     "execution_count": 10,
     "metadata": {},
     "output_type": "execute_result"
    }
   ],
   "source": [
    "# finding unique values in seasons column\n",
    "data.seasons.unique()"
   ]
  },
  {
   "cell_type": "code",
   "execution_count": 11,
   "id": "7d794633",
   "metadata": {},
   "outputs": [
    {
     "data": {
      "text/plain": [
       "array(['movie', 'tv'], dtype=object)"
      ]
     },
     "execution_count": 11,
     "metadata": {},
     "output_type": "execute_result"
    }
   ],
   "source": [
    "# finding unique values in type column\n",
    "data.type.unique()"
   ]
  },
  {
   "cell_type": "code",
   "execution_count": 134,
   "id": "63ea6067",
   "metadata": {},
   "outputs": [
    {
     "data": {
      "text/plain": [
       "array(['Drama', 'Documentary', 'Superhero', 'Musical', 'Romance',\n",
       "       'Family', 'Action', 'Kids', 'Comedy', 'Thriller', 'Crime',\n",
       "       'Horror', 'Mythology', 'Animals & Nature', 'Adventure',\n",
       "       'Animation', 'Mystery', 'Science Fiction', 'Historical',\n",
       "       'Standup Comedy', 'Teen', 'Fantasy', 'Science', 'Concert Film',\n",
       "       'Shorts', 'Docudrama', 'Biopic', 'Reality', 'Sport', 'Travel',\n",
       "       'Food', 'Talk Show', 'Awards', 'Kabaddi', 'Lifestyle'],\n",
       "      dtype=object)"
      ]
     },
     "execution_count": 134,
     "metadata": {},
     "output_type": "execute_result"
    }
   ],
   "source": [
    "# finding unique values in genre column\n",
    "data.genre.unique()"
   ]
  },
  {
   "cell_type": "code",
   "execution_count": 13,
   "id": "211fd344",
   "metadata": {},
   "outputs": [
    {
     "data": {
      "text/plain": [
       "array(['U/A 13+', 'U', 'U/A 7+', 'U/A 16+', 'A', 'PG', 'G', '15+',\n",
       "       'Kannada', 'English', '12+', 'Star Sports Kannada 1', 'Telugu',\n",
       "       'Star Sports 1 Telugu', 'Marathi', 'Star Suvarna', 'Hindi',\n",
       "       'Star Sports 1 Marathi', 'Star Vijay', 'Star Sports 2', 'Tamil',\n",
       "       'Star Sports Hindi 1'], dtype=object)"
      ]
     },
     "execution_count": 13,
     "metadata": {},
     "output_type": "execute_result"
    }
   ],
   "source": [
    "# finding unique values in age_rating column\n",
    "data.age_rating.unique()"
   ]
  },
  {
   "cell_type": "markdown",
   "id": "30d1ca44",
   "metadata": {},
   "source": [
    "- we can see that there is languages in  rating column like english, telugu kannada etc.\n",
    "- since it is not recommended we have to remove or drop those languages from the rating column"
   ]
  },
  {
   "cell_type": "code",
   "execution_count": 14,
   "id": "62ca72d5",
   "metadata": {},
   "outputs": [],
   "source": [
    "# dropping languages from the age_rating column\n",
    "data.drop(data.index[data['age_rating'] == 'Star Sports 2'], inplace=True)\n",
    "data.drop(data.index[data['age_rating'] == 'Star Sports Kannada 1'], inplace=True)\n",
    "data.drop(data.index[data['age_rating'] == 'Star Vijay'], inplace=True)\n",
    "data.drop(data.index[data['age_rating'] == 'Star Sports 1 Telugu'], inplace=True)\n",
    "data.drop(data.index[data['age_rating'] == 'Star Sports Hindi 1'], inplace=True)\n",
    "data.drop(data.index[data['age_rating'] == 'Star Sports 1 Marathi'], inplace=True)\n",
    "data.drop(data.index[data['age_rating'] == 'English'], inplace=True)\n",
    "data.drop(data.index[data['age_rating'] == 'Kannada'], inplace=True)\n",
    "data.drop(data.index[data['age_rating'] == 'Tamil'], inplace=True)\n",
    "data.drop(data.index[data['age_rating'] == 'Telugu'], inplace=True)\n",
    "data.drop(data.index[data['age_rating'] == 'Hindi'], inplace=True)\n",
    "data.drop(data.index[data['age_rating'] == 'Marathi'], inplace=True)\n",
    "data.drop(data.index[data['age_rating'] == 'Star Suvarna'], inplace=True)\n"
   ]
  },
  {
   "cell_type": "code",
   "execution_count": 15,
   "id": "d5f09d97",
   "metadata": {},
   "outputs": [
    {
     "data": {
      "text/plain": [
       "array(['U/A 13+', 'U', 'U/A 7+', 'U/A 16+', 'A', 'PG', 'G', '15+', '12+'],\n",
       "      dtype=object)"
      ]
     },
     "execution_count": 15,
     "metadata": {},
     "output_type": "execute_result"
    }
   ],
   "source": [
    "data.age_rating.unique()"
   ]
  },
  {
   "cell_type": "code",
   "execution_count": 16,
   "id": "c093e351",
   "metadata": {},
   "outputs": [
    {
     "data": {
      "text/html": [
       "<div>\n",
       "<style scoped>\n",
       "    .dataframe tbody tr th:only-of-type {\n",
       "        vertical-align: middle;\n",
       "    }\n",
       "\n",
       "    .dataframe tbody tr th {\n",
       "        vertical-align: top;\n",
       "    }\n",
       "\n",
       "    .dataframe thead th {\n",
       "        text-align: right;\n",
       "    }\n",
       "</style>\n",
       "<table border=\"1\" class=\"dataframe\">\n",
       "  <thead>\n",
       "    <tr style=\"text-align: right;\">\n",
       "      <th></th>\n",
       "      <th>title</th>\n",
       "      <th>description</th>\n",
       "      <th>genre</th>\n",
       "      <th>year</th>\n",
       "      <th>age_rating</th>\n",
       "      <th>running_time</th>\n",
       "      <th>seasons</th>\n",
       "      <th>episodes</th>\n",
       "      <th>type</th>\n",
       "    </tr>\n",
       "    <tr>\n",
       "      <th>hotstar_id</th>\n",
       "      <th></th>\n",
       "      <th></th>\n",
       "      <th></th>\n",
       "      <th></th>\n",
       "      <th></th>\n",
       "      <th></th>\n",
       "      <th></th>\n",
       "      <th></th>\n",
       "      <th></th>\n",
       "    </tr>\n",
       "  </thead>\n",
       "  <tbody>\n",
       "    <tr>\n",
       "      <th>1835064133</th>\n",
       "      <td>False</td>\n",
       "      <td>False</td>\n",
       "      <td>False</td>\n",
       "      <td>False</td>\n",
       "      <td>False</td>\n",
       "      <td>False</td>\n",
       "      <td>True</td>\n",
       "      <td>True</td>\n",
       "      <td>False</td>\n",
       "    </tr>\n",
       "    <tr>\n",
       "      <th>1260015636</th>\n",
       "      <td>False</td>\n",
       "      <td>False</td>\n",
       "      <td>False</td>\n",
       "      <td>False</td>\n",
       "      <td>False</td>\n",
       "      <td>False</td>\n",
       "      <td>True</td>\n",
       "      <td>True</td>\n",
       "      <td>False</td>\n",
       "    </tr>\n",
       "    <tr>\n",
       "      <th>1000070418</th>\n",
       "      <td>False</td>\n",
       "      <td>False</td>\n",
       "      <td>False</td>\n",
       "      <td>False</td>\n",
       "      <td>False</td>\n",
       "      <td>False</td>\n",
       "      <td>True</td>\n",
       "      <td>True</td>\n",
       "      <td>False</td>\n",
       "    </tr>\n",
       "    <tr>\n",
       "      <th>1770000804</th>\n",
       "      <td>False</td>\n",
       "      <td>False</td>\n",
       "      <td>False</td>\n",
       "      <td>False</td>\n",
       "      <td>False</td>\n",
       "      <td>False</td>\n",
       "      <td>True</td>\n",
       "      <td>True</td>\n",
       "      <td>False</td>\n",
       "    </tr>\n",
       "    <tr>\n",
       "      <th>1770005017</th>\n",
       "      <td>False</td>\n",
       "      <td>False</td>\n",
       "      <td>False</td>\n",
       "      <td>False</td>\n",
       "      <td>False</td>\n",
       "      <td>False</td>\n",
       "      <td>True</td>\n",
       "      <td>True</td>\n",
       "      <td>False</td>\n",
       "    </tr>\n",
       "    <tr>\n",
       "      <th>...</th>\n",
       "      <td>...</td>\n",
       "      <td>...</td>\n",
       "      <td>...</td>\n",
       "      <td>...</td>\n",
       "      <td>...</td>\n",
       "      <td>...</td>\n",
       "      <td>...</td>\n",
       "      <td>...</td>\n",
       "      <td>...</td>\n",
       "    </tr>\n",
       "    <tr>\n",
       "      <th>18211</th>\n",
       "      <td>False</td>\n",
       "      <td>False</td>\n",
       "      <td>False</td>\n",
       "      <td>False</td>\n",
       "      <td>False</td>\n",
       "      <td>True</td>\n",
       "      <td>False</td>\n",
       "      <td>False</td>\n",
       "      <td>False</td>\n",
       "    </tr>\n",
       "    <tr>\n",
       "      <th>1260063600</th>\n",
       "      <td>False</td>\n",
       "      <td>False</td>\n",
       "      <td>False</td>\n",
       "      <td>False</td>\n",
       "      <td>False</td>\n",
       "      <td>True</td>\n",
       "      <td>False</td>\n",
       "      <td>False</td>\n",
       "      <td>False</td>\n",
       "    </tr>\n",
       "    <tr>\n",
       "      <th>1260071152</th>\n",
       "      <td>False</td>\n",
       "      <td>False</td>\n",
       "      <td>False</td>\n",
       "      <td>False</td>\n",
       "      <td>False</td>\n",
       "      <td>True</td>\n",
       "      <td>False</td>\n",
       "      <td>False</td>\n",
       "      <td>False</td>\n",
       "    </tr>\n",
       "    <tr>\n",
       "      <th>1260002656</th>\n",
       "      <td>False</td>\n",
       "      <td>False</td>\n",
       "      <td>False</td>\n",
       "      <td>False</td>\n",
       "      <td>False</td>\n",
       "      <td>True</td>\n",
       "      <td>False</td>\n",
       "      <td>False</td>\n",
       "      <td>False</td>\n",
       "    </tr>\n",
       "    <tr>\n",
       "      <th>1260003179</th>\n",
       "      <td>False</td>\n",
       "      <td>False</td>\n",
       "      <td>False</td>\n",
       "      <td>False</td>\n",
       "      <td>False</td>\n",
       "      <td>True</td>\n",
       "      <td>False</td>\n",
       "      <td>False</td>\n",
       "      <td>False</td>\n",
       "    </tr>\n",
       "  </tbody>\n",
       "</table>\n",
       "<p>6336 rows × 9 columns</p>\n",
       "</div>"
      ],
      "text/plain": [
       "            title  description  genre   year  age_rating  running_time  \\\n",
       "hotstar_id                                                               \n",
       "1835064133  False        False  False  False       False         False   \n",
       "1260015636  False        False  False  False       False         False   \n",
       "1000070418  False        False  False  False       False         False   \n",
       "1770000804  False        False  False  False       False         False   \n",
       "1770005017  False        False  False  False       False         False   \n",
       "...           ...          ...    ...    ...         ...           ...   \n",
       "18211       False        False  False  False       False          True   \n",
       "1260063600  False        False  False  False       False          True   \n",
       "1260071152  False        False  False  False       False          True   \n",
       "1260002656  False        False  False  False       False          True   \n",
       "1260003179  False        False  False  False       False          True   \n",
       "\n",
       "            seasons  episodes   type  \n",
       "hotstar_id                            \n",
       "1835064133     True      True  False  \n",
       "1260015636     True      True  False  \n",
       "1000070418     True      True  False  \n",
       "1770000804     True      True  False  \n",
       "1770005017     True      True  False  \n",
       "...             ...       ...    ...  \n",
       "18211         False     False  False  \n",
       "1260063600    False     False  False  \n",
       "1260071152    False     False  False  \n",
       "1260002656    False     False  False  \n",
       "1260003179    False     False  False  \n",
       "\n",
       "[6336 rows x 9 columns]"
      ]
     },
     "execution_count": 16,
     "metadata": {},
     "output_type": "execute_result"
    }
   ],
   "source": [
    "#finding null values \n",
    "data.isnull()"
   ]
  },
  {
   "cell_type": "code",
   "execution_count": 17,
   "id": "c0b78769",
   "metadata": {},
   "outputs": [
    {
     "data": {
      "text/plain": [
       "title              0\n",
       "description        0\n",
       "genre              0\n",
       "year               0\n",
       "age_rating         0\n",
       "running_time      15\n",
       "seasons         4188\n",
       "episodes        4188\n",
       "type               0\n",
       "dtype: int64"
      ]
     },
     "execution_count": 17,
     "metadata": {},
     "output_type": "execute_result"
    }
   ],
   "source": [
    "#finding  how many null values are there in each column\n",
    "data.isnull().sum()"
   ]
  },
  {
   "cell_type": "markdown",
   "id": "4f54091a",
   "metadata": {},
   "source": [
    "## Handling null values in running_time column"
   ]
  },
  {
   "cell_type": "code",
   "execution_count": 18,
   "id": "21a9e72a",
   "metadata": {},
   "outputs": [],
   "source": [
    "# finding mean value of the column running_time\n",
    "running_timeofx_mean = data.running_time.mean()"
   ]
  },
  {
   "cell_type": "code",
   "execution_count": 19,
   "id": "06a2e1f9",
   "metadata": {},
   "outputs": [
    {
     "name": "stdout",
     "output_type": "stream",
     "text": [
      "117.38680588514475\n"
     ]
    }
   ],
   "source": [
    "print(running_timeofx_mean)"
   ]
  },
  {
   "cell_type": "code",
   "execution_count": 20,
   "id": "b58c0fe8",
   "metadata": {},
   "outputs": [],
   "source": [
    "#filling null values of the column running_time with mean value\n",
    "data.running_time.fillna(running_timeofx_mean ,inplace=True)"
   ]
  },
  {
   "cell_type": "code",
   "execution_count": 21,
   "id": "f6ad2037",
   "metadata": {},
   "outputs": [
    {
     "data": {
      "text/plain": [
       "title              0\n",
       "description        0\n",
       "genre              0\n",
       "year               0\n",
       "age_rating         0\n",
       "running_time       0\n",
       "seasons         4188\n",
       "episodes        4188\n",
       "type               0\n",
       "dtype: int64"
      ]
     },
     "execution_count": 21,
     "metadata": {},
     "output_type": "execute_result"
    }
   ],
   "source": [
    "# Checking weather the data set got filled with the mean values or not \n",
    "data.isnull().sum()"
   ]
  },
  {
   "cell_type": "markdown",
   "id": "fe0b0e89",
   "metadata": {},
   "source": [
    "- we can see that the null values of the columns running_time is  showing '0'\n",
    "-    This shows that we have sucessfully replaced null values"
   ]
  },
  {
   "cell_type": "code",
   "execution_count": 22,
   "id": "434b17e2",
   "metadata": {},
   "outputs": [
    {
     "data": {
      "text/plain": [
       "<AxesSubplot:xlabel='running_time'>"
      ]
     },
     "execution_count": 22,
     "metadata": {},
     "output_type": "execute_result"
    },
    {
     "data": {
      "image/png": "[encoded data removed]",
      "text/plain": [
       "<Figure size 360x216 with 1 Axes>"
      ]
     },
     "metadata": {
      "needs_background": "light"
     },
     "output_type": "display_data"
    }
   ],
   "source": [
    "#box plot -sns.boxplot()\n",
    "plt.figure(figsize = (5,3))\n",
    "sns.boxplot(x=data['running_time'])"
   ]
  },
  {
   "cell_type": "code",
   "execution_count": 23,
   "id": "618e96a0",
   "metadata": {},
   "outputs": [
    {
     "data": {
      "text/plain": [
       "0.50    127.0\n",
       "0.67    140.0\n",
       "0.79    150.0\n",
       "0.95    181.0\n",
       "0.99    200.0\n",
       "Name: running_time, dtype: float64"
      ]
     },
     "execution_count": 23,
     "metadata": {},
     "output_type": "execute_result"
    }
   ],
   "source": [
    " # data.quantile gives the percentage of specific values\n",
    "data['running_time'].quantile([0.5,0.67,0.79,0.95,0.99])      "
   ]
  },
  {
   "cell_type": "code",
   "execution_count": 24,
   "id": "7962c9b1",
   "metadata": {},
   "outputs": [
    {
     "data": {
      "text/plain": [
       "330.0"
      ]
     },
     "execution_count": 24,
     "metadata": {},
     "output_type": "execute_result"
    }
   ],
   "source": [
    "# finding max value of  running_time\n",
    "data.running_time.max()"
   ]
  },
  {
   "cell_type": "markdown",
   "id": "fed5303f",
   "metadata": {},
   "source": [
    "### As we can see there is huge difference between 99 percentile and maximum value of the particular column, So by this we can surely say there are outliers in it."
   ]
  },
  {
   "cell_type": "markdown",
   "id": "b3345e66",
   "metadata": {},
   "source": [
    "## Inter Quartile Range(IQR) Method"
   ]
  },
  {
   "cell_type": "code",
   "execution_count": 25,
   "id": "fb4cefb8",
   "metadata": {},
   "outputs": [
    {
     "data": {
      "text/plain": [
       "(99.0, 147.0)"
      ]
     },
     "execution_count": 25,
     "metadata": {},
     "output_type": "execute_result"
    }
   ],
   "source": [
    "# data.quantile(0.25) gives the 25th percentile of a column\n",
    "# data.quantile(0.75) gives the 75th percentile of a column\n",
    "Q1=data['running_time'].quantile(0.25)                  \n",
    "Q3=data['running_time'].quantile(0.75)                  \n",
    "Q1,Q3"
   ]
  },
  {
   "cell_type": "code",
   "execution_count": 26,
   "id": "0cd006f1",
   "metadata": {},
   "outputs": [
    {
     "data": {
      "text/plain": [
       "48.0"
      ]
     },
     "execution_count": 26,
     "metadata": {},
     "output_type": "execute_result"
    }
   ],
   "source": [
    " # IQR = Difference between 75th percentile and 25th percentile\n",
    "IQR = Q3-Q1                                  \n",
    "IQR"
   ]
  },
  {
   "cell_type": "code",
   "execution_count": 27,
   "id": "03e27cba",
   "metadata": {},
   "outputs": [
    {
     "data": {
      "text/plain": [
       "(27.0, 219.0)"
      ]
     },
     "execution_count": 27,
     "metadata": {},
     "output_type": "execute_result"
    }
   ],
   "source": [
    "# Lower limit and Upper limit to display the dataset without outliers\n",
    "lower_limit = Q1 - 1.5*IQR                   \n",
    "upper_limit = Q3 + 1.5*IQR\n",
    "lower_limit,upper_limit"
   ]
  },
  {
   "cell_type": "code",
   "execution_count": 28,
   "id": "462549cd",
   "metadata": {},
   "outputs": [
    {
     "data": {
      "text/html": [
       "<div>\n",
       "<style scoped>\n",
       "    .dataframe tbody tr th:only-of-type {\n",
       "        vertical-align: middle;\n",
       "    }\n",
       "\n",
       "    .dataframe tbody tr th {\n",
       "        vertical-align: top;\n",
       "    }\n",
       "\n",
       "    .dataframe thead th {\n",
       "        text-align: right;\n",
       "    }\n",
       "</style>\n",
       "<table border=\"1\" class=\"dataframe\">\n",
       "  <thead>\n",
       "    <tr style=\"text-align: right;\">\n",
       "      <th></th>\n",
       "      <th>title</th>\n",
       "      <th>description</th>\n",
       "      <th>genre</th>\n",
       "      <th>year</th>\n",
       "      <th>age_rating</th>\n",
       "      <th>running_time</th>\n",
       "      <th>seasons</th>\n",
       "      <th>episodes</th>\n",
       "      <th>type</th>\n",
       "    </tr>\n",
       "    <tr>\n",
       "      <th>hotstar_id</th>\n",
       "      <th></th>\n",
       "      <th></th>\n",
       "      <th></th>\n",
       "      <th></th>\n",
       "      <th></th>\n",
       "      <th></th>\n",
       "      <th></th>\n",
       "      <th></th>\n",
       "      <th></th>\n",
       "    </tr>\n",
       "  </thead>\n",
       "  <tbody>\n",
       "  </tbody>\n",
       "</table>\n",
       "</div>"
      ],
      "text/plain": [
       "Empty DataFrame\n",
       "Columns: [title, description, genre, year, age_rating, running_time, seasons, episodes, type]\n",
       "Index: []"
      ]
     },
     "execution_count": 28,
     "metadata": {},
     "output_type": "execute_result"
    }
   ],
   "source": [
    "data[data['running_time']==upper_limit]"
   ]
  },
  {
   "cell_type": "code",
   "execution_count": 29,
   "id": "3ea2feea",
   "metadata": {},
   "outputs": [
    {
     "data": {
      "text/html": [
       "<div>\n",
       "<style scoped>\n",
       "    .dataframe tbody tr th:only-of-type {\n",
       "        vertical-align: middle;\n",
       "    }\n",
       "\n",
       "    .dataframe tbody tr th {\n",
       "        vertical-align: top;\n",
       "    }\n",
       "\n",
       "    .dataframe thead th {\n",
       "        text-align: right;\n",
       "    }\n",
       "</style>\n",
       "<table border=\"1\" class=\"dataframe\">\n",
       "  <thead>\n",
       "    <tr style=\"text-align: right;\">\n",
       "      <th></th>\n",
       "      <th>title</th>\n",
       "      <th>description</th>\n",
       "      <th>genre</th>\n",
       "      <th>year</th>\n",
       "      <th>age_rating</th>\n",
       "      <th>running_time</th>\n",
       "      <th>seasons</th>\n",
       "      <th>episodes</th>\n",
       "      <th>type</th>\n",
       "    </tr>\n",
       "    <tr>\n",
       "      <th>hotstar_id</th>\n",
       "      <th></th>\n",
       "      <th></th>\n",
       "      <th></th>\n",
       "      <th></th>\n",
       "      <th></th>\n",
       "      <th></th>\n",
       "      <th></th>\n",
       "      <th></th>\n",
       "      <th></th>\n",
       "    </tr>\n",
       "  </thead>\n",
       "  <tbody>\n",
       "    <tr>\n",
       "      <th>1610010203</th>\n",
       "      <td>Subway</td>\n",
       "      <td>A young man enters a regular looking subway, u...</td>\n",
       "      <td>Thriller</td>\n",
       "      <td>2018</td>\n",
       "      <td>U/A 13+</td>\n",
       "      <td>27.0</td>\n",
       "      <td>NaN</td>\n",
       "      <td>NaN</td>\n",
       "      <td>movie</td>\n",
       "    </tr>\n",
       "    <tr>\n",
       "      <th>1826031902</th>\n",
       "      <td>Elo</td>\n",
       "      <td>This day is significant, special and extremely...</td>\n",
       "      <td>Drama</td>\n",
       "      <td>2020</td>\n",
       "      <td>U/A 13+</td>\n",
       "      <td>27.0</td>\n",
       "      <td>NaN</td>\n",
       "      <td>NaN</td>\n",
       "      <td>movie</td>\n",
       "    </tr>\n",
       "    <tr>\n",
       "      <th>1260104525</th>\n",
       "      <td>Just take it Easy</td>\n",
       "      <td>Sanjay is highly successful by all standards, ...</td>\n",
       "      <td>Drama</td>\n",
       "      <td>2021</td>\n",
       "      <td>U/A 16+</td>\n",
       "      <td>27.0</td>\n",
       "      <td>NaN</td>\n",
       "      <td>NaN</td>\n",
       "      <td>movie</td>\n",
       "    </tr>\n",
       "    <tr>\n",
       "      <th>1820036416</th>\n",
       "      <td>Ghumakkad</td>\n",
       "      <td>This is story a family in a small village in I...</td>\n",
       "      <td>Drama</td>\n",
       "      <td>2018</td>\n",
       "      <td>U/A 13+</td>\n",
       "      <td>27.0</td>\n",
       "      <td>NaN</td>\n",
       "      <td>NaN</td>\n",
       "      <td>movie</td>\n",
       "    </tr>\n",
       "    <tr>\n",
       "      <th>1260060317</th>\n",
       "      <td>Sax By Julius</td>\n",
       "      <td>A saxophone virtuoso, Julius, loses his talent...</td>\n",
       "      <td>Drama</td>\n",
       "      <td>2021</td>\n",
       "      <td>U/A 13+</td>\n",
       "      <td>27.0</td>\n",
       "      <td>NaN</td>\n",
       "      <td>NaN</td>\n",
       "      <td>movie</td>\n",
       "    </tr>\n",
       "    <tr>\n",
       "      <th>1260105269</th>\n",
       "      <td>On The See Saw</td>\n",
       "      <td>A happy evening morphs into an eventful night,...</td>\n",
       "      <td>Drama</td>\n",
       "      <td>2021</td>\n",
       "      <td>U/A 13+</td>\n",
       "      <td>27.0</td>\n",
       "      <td>NaN</td>\n",
       "      <td>NaN</td>\n",
       "      <td>movie</td>\n",
       "    </tr>\n",
       "    <tr>\n",
       "      <th>1808047657</th>\n",
       "      <td>Smile Simi</td>\n",
       "      <td>Simi's world seems perfect yet her mood swings...</td>\n",
       "      <td>Drama</td>\n",
       "      <td>2020</td>\n",
       "      <td>U/A 16+</td>\n",
       "      <td>27.0</td>\n",
       "      <td>NaN</td>\n",
       "      <td>NaN</td>\n",
       "      <td>movie</td>\n",
       "    </tr>\n",
       "    <tr>\n",
       "      <th>1836060195</th>\n",
       "      <td>Alfaaz</td>\n",
       "      <td>This film is about the only son of a rich fami...</td>\n",
       "      <td>Drama</td>\n",
       "      <td>2021</td>\n",
       "      <td>U/A 13+</td>\n",
       "      <td>27.0</td>\n",
       "      <td>NaN</td>\n",
       "      <td>NaN</td>\n",
       "      <td>movie</td>\n",
       "    </tr>\n",
       "    <tr>\n",
       "      <th>1260105327</th>\n",
       "      <td>Mannat</td>\n",
       "      <td>Desperate to be a mother, a 45-year-old woman ...</td>\n",
       "      <td>Drama</td>\n",
       "      <td>2021</td>\n",
       "      <td>A</td>\n",
       "      <td>27.0</td>\n",
       "      <td>NaN</td>\n",
       "      <td>NaN</td>\n",
       "      <td>movie</td>\n",
       "    </tr>\n",
       "    <tr>\n",
       "      <th>1620020179</th>\n",
       "      <td>Sab Theek Hain</td>\n",
       "      <td>What happens when parents get their daughters ...</td>\n",
       "      <td>Drama</td>\n",
       "      <td>2018</td>\n",
       "      <td>U/A 16+</td>\n",
       "      <td>27.0</td>\n",
       "      <td>NaN</td>\n",
       "      <td>NaN</td>\n",
       "      <td>movie</td>\n",
       "    </tr>\n",
       "  </tbody>\n",
       "</table>\n",
       "</div>"
      ],
      "text/plain": [
       "                        title  \\\n",
       "hotstar_id                      \n",
       "1610010203             Subway   \n",
       "1826031902                Elo   \n",
       "1260104525  Just take it Easy   \n",
       "1820036416          Ghumakkad   \n",
       "1260060317      Sax By Julius   \n",
       "1260105269     On The See Saw   \n",
       "1808047657         Smile Simi   \n",
       "1836060195             Alfaaz   \n",
       "1260105327             Mannat   \n",
       "1620020179     Sab Theek Hain   \n",
       "\n",
       "                                                  description     genre  year  \\\n",
       "hotstar_id                                                                      \n",
       "1610010203  A young man enters a regular looking subway, u...  Thriller  2018   \n",
       "1826031902  This day is significant, special and extremely...     Drama  2020   \n",
       "1260104525  Sanjay is highly successful by all standards, ...     Drama  2021   \n",
       "1820036416  This is story a family in a small village in I...     Drama  2018   \n",
       "1260060317  A saxophone virtuoso, Julius, loses his talent...     Drama  2021   \n",
       "1260105269  A happy evening morphs into an eventful night,...     Drama  2021   \n",
       "1808047657  Simi's world seems perfect yet her mood swings...     Drama  2020   \n",
       "1836060195  This film is about the only son of a rich fami...     Drama  2021   \n",
       "1260105327  Desperate to be a mother, a 45-year-old woman ...     Drama  2021   \n",
       "1620020179  What happens when parents get their daughters ...     Drama  2018   \n",
       "\n",
       "           age_rating  running_time  seasons  episodes   type  \n",
       "hotstar_id                                                     \n",
       "1610010203    U/A 13+          27.0      NaN       NaN  movie  \n",
       "1826031902    U/A 13+          27.0      NaN       NaN  movie  \n",
       "1260104525    U/A 16+          27.0      NaN       NaN  movie  \n",
       "1820036416    U/A 13+          27.0      NaN       NaN  movie  \n",
       "1260060317    U/A 13+          27.0      NaN       NaN  movie  \n",
       "1260105269    U/A 13+          27.0      NaN       NaN  movie  \n",
       "1808047657    U/A 16+          27.0      NaN       NaN  movie  \n",
       "1836060195    U/A 13+          27.0      NaN       NaN  movie  \n",
       "1260105327          A          27.0      NaN       NaN  movie  \n",
       "1620020179    U/A 16+          27.0      NaN       NaN  movie  "
      ]
     },
     "execution_count": 29,
     "metadata": {},
     "output_type": "execute_result"
    }
   ],
   "source": [
    "data[data['running_time']==lower_limit]"
   ]
  },
  {
   "cell_type": "code",
   "execution_count": 30,
   "id": "16463e3c",
   "metadata": {},
   "outputs": [
    {
     "data": {
      "text/html": [
       "<div>\n",
       "<style scoped>\n",
       "    .dataframe tbody tr th:only-of-type {\n",
       "        vertical-align: middle;\n",
       "    }\n",
       "\n",
       "    .dataframe tbody tr th {\n",
       "        vertical-align: top;\n",
       "    }\n",
       "\n",
       "    .dataframe thead th {\n",
       "        text-align: right;\n",
       "    }\n",
       "</style>\n",
       "<table border=\"1\" class=\"dataframe\">\n",
       "  <thead>\n",
       "    <tr style=\"text-align: right;\">\n",
       "      <th></th>\n",
       "      <th>title</th>\n",
       "      <th>description</th>\n",
       "      <th>genre</th>\n",
       "      <th>year</th>\n",
       "      <th>age_rating</th>\n",
       "      <th>running_time</th>\n",
       "      <th>seasons</th>\n",
       "      <th>episodes</th>\n",
       "      <th>type</th>\n",
       "    </tr>\n",
       "    <tr>\n",
       "      <th>hotstar_id</th>\n",
       "      <th></th>\n",
       "      <th></th>\n",
       "      <th></th>\n",
       "      <th></th>\n",
       "      <th></th>\n",
       "      <th></th>\n",
       "      <th></th>\n",
       "      <th></th>\n",
       "      <th></th>\n",
       "    </tr>\n",
       "  </thead>\n",
       "  <tbody>\n",
       "    <tr>\n",
       "      <th>1260015636</th>\n",
       "      <td>Jesus: Rise To Power And Birth Of Christianity</td>\n",
       "      <td>A journey across the historic landscapes of th...</td>\n",
       "      <td>Documentary</td>\n",
       "      <td>2019</td>\n",
       "      <td>U/A 13+</td>\n",
       "      <td>42.000000</td>\n",
       "      <td>NaN</td>\n",
       "      <td>NaN</td>\n",
       "      <td>movie</td>\n",
       "    </tr>\n",
       "    <tr>\n",
       "      <th>1000070418</th>\n",
       "      <td>Yama Muduru</td>\n",
       "      <td>Krishna Kumar is popular in college for his mu...</td>\n",
       "      <td>Drama</td>\n",
       "      <td>2009</td>\n",
       "      <td>U/A 13+</td>\n",
       "      <td>129.000000</td>\n",
       "      <td>NaN</td>\n",
       "      <td>NaN</td>\n",
       "      <td>movie</td>\n",
       "    </tr>\n",
       "    <tr>\n",
       "      <th>1770000804</th>\n",
       "      <td>X-Men: The Last Stand</td>\n",
       "      <td>When humans find a cure for mutation, Professo...</td>\n",
       "      <td>Superhero</td>\n",
       "      <td>2006</td>\n",
       "      <td>U/A 13+</td>\n",
       "      <td>103.000000</td>\n",
       "      <td>NaN</td>\n",
       "      <td>NaN</td>\n",
       "      <td>movie</td>\n",
       "    </tr>\n",
       "    <tr>\n",
       "      <th>1770005017</th>\n",
       "      <td>Mangalyaan: India's Mission To Mars</td>\n",
       "      <td>In this special, watch the 650 million km jour...</td>\n",
       "      <td>Documentary</td>\n",
       "      <td>2017</td>\n",
       "      <td>U</td>\n",
       "      <td>44.000000</td>\n",
       "      <td>NaN</td>\n",
       "      <td>NaN</td>\n",
       "      <td>movie</td>\n",
       "    </tr>\n",
       "    <tr>\n",
       "      <th>1260050137</th>\n",
       "      <td>The Disney Holiday Singalong</td>\n",
       "      <td>Hosted by Ryan Seacrest, the jolly event full ...</td>\n",
       "      <td>Musical</td>\n",
       "      <td>2020</td>\n",
       "      <td>U/A 7+</td>\n",
       "      <td>45.000000</td>\n",
       "      <td>NaN</td>\n",
       "      <td>NaN</td>\n",
       "      <td>movie</td>\n",
       "    </tr>\n",
       "    <tr>\n",
       "      <th>...</th>\n",
       "      <td>...</td>\n",
       "      <td>...</td>\n",
       "      <td>...</td>\n",
       "      <td>...</td>\n",
       "      <td>...</td>\n",
       "      <td>...</td>\n",
       "      <td>...</td>\n",
       "      <td>...</td>\n",
       "      <td>...</td>\n",
       "    </tr>\n",
       "    <tr>\n",
       "      <th>18211</th>\n",
       "      <td>MS Dhoni - Reimagined Hindi</td>\n",
       "      <td>MS Dhoni's career reimagined, watch streaming ...</td>\n",
       "      <td>Sport</td>\n",
       "      <td>2018</td>\n",
       "      <td>U/A 13+</td>\n",
       "      <td>117.386806</td>\n",
       "      <td>1.0</td>\n",
       "      <td>1.0</td>\n",
       "      <td>tv</td>\n",
       "    </tr>\n",
       "    <tr>\n",
       "      <th>1260063600</th>\n",
       "      <td>Sasneham</td>\n",
       "      <td>An old-age home reunites past lovers Indira an...</td>\n",
       "      <td>Drama</td>\n",
       "      <td>2021</td>\n",
       "      <td>U/A 13+</td>\n",
       "      <td>117.386806</td>\n",
       "      <td>1.0</td>\n",
       "      <td>345.0</td>\n",
       "      <td>tv</td>\n",
       "    </tr>\n",
       "    <tr>\n",
       "      <th>1260071152</th>\n",
       "      <td>Bolo Ambe Maa Ki Jai</td>\n",
       "      <td>Narrated by Saptarishi, celebrate Navratri wit...</td>\n",
       "      <td>Mythology</td>\n",
       "      <td>2021</td>\n",
       "      <td>U/A 13+</td>\n",
       "      <td>117.386806</td>\n",
       "      <td>1.0</td>\n",
       "      <td>5.0</td>\n",
       "      <td>tv</td>\n",
       "    </tr>\n",
       "    <tr>\n",
       "      <th>1260002656</th>\n",
       "      <td>Ambi Ning Vaisaytho Specials</td>\n",
       "      <td>Catch all the fun, gossips, and anecdotes from...</td>\n",
       "      <td>Reality</td>\n",
       "      <td>2018</td>\n",
       "      <td>G</td>\n",
       "      <td>117.386806</td>\n",
       "      <td>1.0</td>\n",
       "      <td>1.0</td>\n",
       "      <td>tv</td>\n",
       "    </tr>\n",
       "    <tr>\n",
       "      <th>1260003179</th>\n",
       "      <td>Dil Toh Happy Hai Ji</td>\n",
       "      <td>Based in Amritsar, this is a joyful tale of fr...</td>\n",
       "      <td>Drama</td>\n",
       "      <td>2019</td>\n",
       "      <td>U/A 13+</td>\n",
       "      <td>117.386806</td>\n",
       "      <td>1.0</td>\n",
       "      <td>148.0</td>\n",
       "      <td>tv</td>\n",
       "    </tr>\n",
       "  </tbody>\n",
       "</table>\n",
       "<p>5738 rows × 9 columns</p>\n",
       "</div>"
      ],
      "text/plain": [
       "                                                     title  \\\n",
       "hotstar_id                                                   \n",
       "1260015636  Jesus: Rise To Power And Birth Of Christianity   \n",
       "1000070418                                     Yama Muduru   \n",
       "1770000804                           X-Men: The Last Stand   \n",
       "1770005017             Mangalyaan: India's Mission To Mars   \n",
       "1260050137                    The Disney Holiday Singalong   \n",
       "...                                                    ...   \n",
       "18211                          MS Dhoni - Reimagined Hindi   \n",
       "1260063600                                        Sasneham   \n",
       "1260071152                            Bolo Ambe Maa Ki Jai   \n",
       "1260002656                    Ambi Ning Vaisaytho Specials   \n",
       "1260003179                            Dil Toh Happy Hai Ji   \n",
       "\n",
       "                                                  description        genre  \\\n",
       "hotstar_id                                                                   \n",
       "1260015636  A journey across the historic landscapes of th...  Documentary   \n",
       "1000070418  Krishna Kumar is popular in college for his mu...        Drama   \n",
       "1770000804  When humans find a cure for mutation, Professo...    Superhero   \n",
       "1770005017  In this special, watch the 650 million km jour...  Documentary   \n",
       "1260050137  Hosted by Ryan Seacrest, the jolly event full ...      Musical   \n",
       "...                                                       ...          ...   \n",
       "18211       MS Dhoni's career reimagined, watch streaming ...        Sport   \n",
       "1260063600  An old-age home reunites past lovers Indira an...        Drama   \n",
       "1260071152  Narrated by Saptarishi, celebrate Navratri wit...    Mythology   \n",
       "1260002656  Catch all the fun, gossips, and anecdotes from...      Reality   \n",
       "1260003179  Based in Amritsar, this is a joyful tale of fr...        Drama   \n",
       "\n",
       "            year age_rating  running_time  seasons  episodes   type  \n",
       "hotstar_id                                                           \n",
       "1260015636  2019    U/A 13+     42.000000      NaN       NaN  movie  \n",
       "1000070418  2009    U/A 13+    129.000000      NaN       NaN  movie  \n",
       "1770000804  2006    U/A 13+    103.000000      NaN       NaN  movie  \n",
       "1770005017  2017          U     44.000000      NaN       NaN  movie  \n",
       "1260050137  2020     U/A 7+     45.000000      NaN       NaN  movie  \n",
       "...          ...        ...           ...      ...       ...    ...  \n",
       "18211       2018    U/A 13+    117.386806      1.0       1.0     tv  \n",
       "1260063600  2021    U/A 13+    117.386806      1.0     345.0     tv  \n",
       "1260071152  2021    U/A 13+    117.386806      1.0       5.0     tv  \n",
       "1260002656  2018          G    117.386806      1.0       1.0     tv  \n",
       "1260003179  2019    U/A 13+    117.386806      1.0     148.0     tv  \n",
       "\n",
       "[5738 rows x 9 columns]"
      ]
     },
     "execution_count": 30,
     "metadata": {},
     "output_type": "execute_result"
    }
   ],
   "source": [
    " # we display the datset without outliers\n",
    "data_no = data[(data['running_time'] > lower_limit) & (data['running_time'] < upper_limit)] \n",
    "data_no"
   ]
  },
  {
   "cell_type": "markdown",
   "id": "f0be5994",
   "metadata": {},
   "source": [
    "- So after applying IQR formula we removed outliers and we displayed the datset with no outliers in running_time column"
   ]
  },
  {
   "cell_type": "markdown",
   "id": "9131e6b5",
   "metadata": {},
   "source": [
    "\n",
    "## So after applying IQR formula we removed outliers and we displayed the datset with no outliers in DiscountedPrice Column"
   ]
  },
  {
   "cell_type": "code",
   "execution_count": 31,
   "id": "a6890b71",
   "metadata": {},
   "outputs": [
    {
     "data": {
      "image/png": "[encoded data removed]",
      "text/plain": [
       "<Figure size 432x288 with 1 Axes>"
      ]
     },
     "metadata": {
      "needs_background": "light"
     },
     "output_type": "display_data"
    }
   ],
   "source": [
    "# sns.boxplot gives us the visualization of boxplot\n",
    "sns.boxplot(x='running_time',data=data_no)                              \n",
    "plt.show()"
   ]
  },
  {
   "cell_type": "markdown",
   "id": "50523458",
   "metadata": {},
   "source": [
    "- Now we can clearly see by vissualization there are no outliers present ."
   ]
  },
  {
   "cell_type": "markdown",
   "id": "49e8b561",
   "metadata": {},
   "source": [
    "## since null values in seasons and episodes column is high we have to drop them as it  effects the  data"
   ]
  },
  {
   "cell_type": "code",
   "execution_count": 32,
   "id": "a73d89c4",
   "metadata": {},
   "outputs": [],
   "source": [
    "data=data.drop(['seasons','episodes'],axis=1)\n"
   ]
  },
  {
   "cell_type": "markdown",
   "id": "2e44f6ad",
   "metadata": {},
   "source": [
    "- thus we hav sucessfully dropped seasons and  episodes columns"
   ]
  },
  {
   "cell_type": "code",
   "execution_count": 33,
   "id": "f7b82785",
   "metadata": {},
   "outputs": [
    {
     "data": {
      "text/plain": [
       "title           0\n",
       "description     0\n",
       "genre           0\n",
       "year            0\n",
       "age_rating      0\n",
       "running_time    0\n",
       "type            0\n",
       "dtype: int64"
      ]
     },
     "execution_count": 33,
     "metadata": {},
     "output_type": "execute_result"
    }
   ],
   "source": [
    "data.isnull().sum()"
   ]
  },
  {
   "cell_type": "markdown",
   "id": "a93f28f3",
   "metadata": {},
   "source": [
    "- Thus we have sucessfully removed null values and outliers frm the dataset now the data set is consistent to do Analysis"
   ]
  },
  {
   "cell_type": "markdown",
   "id": "3d5d3bbd",
   "metadata": {},
   "source": [
    "# Univariate analysis\n",
    "## numerical "
   ]
  },
  {
   "cell_type": "markdown",
   "id": "0f570961",
   "metadata": {},
   "source": [
    "## running_time variable"
   ]
  },
  {
   "cell_type": "code",
   "execution_count": 34,
   "id": "30a40228",
   "metadata": {},
   "outputs": [
    {
     "name": "stdout",
     "output_type": "stream",
     "text": [
      "Minimum RT: 28.0\n",
      "Maximum RT: 200.0\n"
     ]
    },
    {
     "data": {
      "image/png": "[encoded data removed]",
      "text/plain": [
       "<Figure size 432x288 with 1 Axes>"
      ]
     },
     "metadata": {
      "needs_background": "light"
     },
     "output_type": "display_data"
    },
    {
     "data": {
      "text/plain": [
       "<Figure size 360x216 with 0 Axes>"
      ]
     },
     "metadata": {},
     "output_type": "display_data"
    }
   ],
   "source": [
    "# histogram = sns.histplot()\n",
    "fig, ax = plt.subplots()\n",
    "sns.histplot(x='running_time',data=data_no)\n",
    "print(\"Minimum RT:\",data_no['running_time'].min())\n",
    "print(\"Maximum RT:\",data_no['running_time'].max())\n",
    "ax.set_xlim(1,199)\n",
    "ax.set_ylim(0,2500)\n",
    "plt.figure(figsize = (5,3))\n",
    "plt.show()"
   ]
  },
  {
   "cell_type": "markdown",
   "id": "06f053ef",
   "metadata": {},
   "source": [
    "- we can observe from the histogram is  that most of the movies/series/tv shows have running time greater than 100 minutes and most of them have 130 minutes.\n"
   ]
  },
  {
   "cell_type": "markdown",
   "id": "27aad267",
   "metadata": {},
   "source": [
    "\n",
    "## So after applying IQR formula we removed outliers and we displayed the datset with no outliers in DiscountedPrice Column"
   ]
  },
  {
   "cell_type": "code",
   "execution_count": 35,
   "id": "2324b217",
   "metadata": {},
   "outputs": [
    {
     "data": {
      "image/png": "[encoded data removed]",
      "text/plain": [
       "<Figure size 432x288 with 1 Axes>"
      ]
     },
     "metadata": {
      "needs_background": "light"
     },
     "output_type": "display_data"
    }
   ],
   "source": [
    "# sns.boxplot gives us the visualization of boxplot\n",
    "sns.boxplot(x='running_time',data=data_no)                              \n",
    "plt.show()"
   ]
  },
  {
   "cell_type": "markdown",
   "id": "ea3cae35",
   "metadata": {},
   "source": [
    "\n",
    "- Now we can clearly see by vissualization there are no outliers present ."
   ]
  },
  {
   "cell_type": "code",
   "execution_count": 36,
   "id": "73d2f6bc",
   "metadata": {},
   "outputs": [
    {
     "name": "stderr",
     "output_type": "stream",
     "text": [
      "C:\\Users\\lenovo\\anaconda3\\lib\\site-packages\\seaborn\\distributions.py:2619: FutureWarning: `distplot` is a deprecated function and will be removed in a future version. Please adapt your code to use either `displot` (a figure-level function with similar flexibility) or `histplot` (an axes-level function for histograms).\n",
      "  warnings.warn(msg, FutureWarning)\n"
     ]
    },
    {
     "data": {
      "text/plain": [
       "<AxesSubplot:xlabel='running_time', ylabel='Density'>"
      ]
     },
     "execution_count": 36,
     "metadata": {},
     "output_type": "execute_result"
    },
    {
     "data": {
      "image/png": "[encoded data removed]",
      "text/plain": [
       "<Figure size 432x288 with 1 Axes>"
      ]
     },
     "metadata": {
      "needs_background": "light"
     },
     "output_type": "display_data"
    }
   ],
   "source": [
    "# distplot of runnin_time using .distplot()\n",
    "sns.distplot(data_no.running_time)"
   ]
  },
  {
   "cell_type": "markdown",
   "id": "da70dabb",
   "metadata": {},
   "source": [
    "- from the above distplot we can see that the high  density of movies or tv shows havig running timebetween 100 minutes and 150 minutes\n",
    "- some of the tv shows or movies have  running time 200 minutes \n",
    "- some have  running time less than 50 minutes also"
   ]
  },
  {
   "cell_type": "markdown",
   "id": "43f07463",
   "metadata": {},
   "source": [
    "### year variable"
   ]
  },
  {
   "cell_type": "code",
   "execution_count": 37,
   "id": "2bab192f",
   "metadata": {},
   "outputs": [
    {
     "data": {
      "text/plain": [
       "2017    517\n",
       "2021    510\n",
       "2019    503\n",
       "2018    452\n",
       "2020    432\n",
       "       ... \n",
       "1958      1\n",
       "1950      1\n",
       "1951      1\n",
       "1960      1\n",
       "1942      1\n",
       "Name: year, Length: 77, dtype: int64"
      ]
     },
     "execution_count": 37,
     "metadata": {},
     "output_type": "execute_result"
    }
   ],
   "source": [
    "#counting no of movies were releasedin particular year using value_count()\n",
    "data.year.value_counts()"
   ]
  },
  {
   "cell_type": "markdown",
   "id": "9a186d89",
   "metadata": {},
   "source": [
    "- we can seee that most of the movies or tv shows were released in the year 2019 and only one movie is  released in the year 1942,1960,1951,1950,so on."
   ]
  },
  {
   "cell_type": "code",
   "execution_count": 38,
   "id": "b56e93d0",
   "metadata": {},
   "outputs": [
    {
     "name": "stdout",
     "output_type": "stream",
     "text": [
      "Minimum yr: 1928\n",
      "Maximum yr: 2022\n"
     ]
    },
    {
     "data": {
      "image/png": "[encoded data removed]",
      "text/plain": [
       "<Figure size 432x288 with 1 Axes>"
      ]
     },
     "metadata": {
      "needs_background": "light"
     },
     "output_type": "display_data"
    },
    {
     "data": {
      "text/plain": [
       "<Figure size 5040x2880 with 0 Axes>"
      ]
     },
     "metadata": {},
     "output_type": "display_data"
    }
   ],
   "source": [
    "# histogram = sns.histplot()\n",
    "fig, ax = plt.subplots()\n",
    "sns.histplot(x='year',data=data)\n",
    "print(\"Minimum yr:\",data['year'].min())\n",
    "print(\"Maximum yr:\",data['year'].max())\n",
    "ax.set_xlim(1928,2022)\n",
    "ax.set_ylim(0,900)\n",
    "plt.figure(figsize = (70,40))\n",
    "plt.show()"
   ]
  },
  {
   "cell_type": "markdown",
   "id": "7b171748",
   "metadata": {},
   "source": [
    "we can seee that most of the movies or tv shows were released in the year 2020 and only one movie is released in the year 1942,1960,1951,1950,so on."
   ]
  },
  {
   "cell_type": "code",
   "execution_count": 39,
   "id": "83e446de",
   "metadata": {},
   "outputs": [
    {
     "name": "stderr",
     "output_type": "stream",
     "text": [
      "C:\\Users\\lenovo\\anaconda3\\lib\\site-packages\\seaborn\\distributions.py:2619: FutureWarning: `distplot` is a deprecated function and will be removed in a future version. Please adapt your code to use either `displot` (a figure-level function with similar flexibility) or `histplot` (an axes-level function for histograms).\n",
      "  warnings.warn(msg, FutureWarning)\n"
     ]
    },
    {
     "data": {
      "text/plain": [
       "<AxesSubplot:xlabel='year', ylabel='Density'>"
      ]
     },
     "execution_count": 39,
     "metadata": {},
     "output_type": "execute_result"
    },
    {
     "data": {
      "image/png": "[encoded data removed]",
      "text/plain": [
       "<Figure size 432x288 with 1 Axes>"
      ]
     },
     "metadata": {
      "needs_background": "light"
     },
     "output_type": "display_data"
    }
   ],
   "source": [
    "sns.distplot(data.year)"
   ]
  },
  {
   "cell_type": "markdown",
   "id": "5889de90",
   "metadata": {},
   "source": [
    "## categorical"
   ]
  },
  {
   "cell_type": "markdown",
   "id": "b2ea157f",
   "metadata": {},
   "source": [
    "## type variable"
   ]
  },
  {
   "cell_type": "code",
   "execution_count": 40,
   "id": "e519a4b4",
   "metadata": {},
   "outputs": [
    {
     "data": {
      "image/png": "[encoded data removed]",
      "text/plain": [
       "<Figure size 432x288 with 1 Axes>"
      ]
     },
     "metadata": {
      "needs_background": "light"
     },
     "output_type": "display_data"
    }
   ],
   "source": [
    "# bar graph of type column\n",
    "data.type.value_counts(normalize = True).plot.barh()\n",
    "plt.show()\n"
   ]
  },
  {
   "cell_type": "code",
   "execution_count": null,
   "id": "a46477ee",
   "metadata": {},
   "outputs": [],
   "source": []
  },
  {
   "cell_type": "code",
   "execution_count": 41,
   "id": "d7f17f3f",
   "metadata": {},
   "outputs": [
    {
     "data": {
      "image/png": "[encoded data removed]",
      "text/plain": [
       "<Figure size 360x288 with 1 Axes>"
      ]
     },
     "metadata": {},
     "output_type": "display_data"
    }
   ],
   "source": [
    "#pie plot of type column\n",
    "plt.figure(figsize = (5,4))\n",
    "data.type.value_counts(normalize=True ).plot.pie()\n",
    "plt.show()"
   ]
  },
  {
   "cell_type": "markdown",
   "id": "a7f6fa2b",
   "metadata": {},
   "source": [
    "- we can observe from the above pie cart of type column is that there are more number of movie type compare to tv type shows"
   ]
  },
  {
   "cell_type": "markdown",
   "id": "8b58362e",
   "metadata": {},
   "source": [
    "## genre variable"
   ]
  },
  {
   "cell_type": "code",
   "execution_count": 87,
   "id": "afd2cdb2",
   "metadata": {},
   "outputs": [
    {
     "data": {
      "text/plain": [
       "<AxesSubplot:xlabel='count', ylabel='genre'>"
      ]
     },
     "execution_count": 87,
     "metadata": {},
     "output_type": "execute_result"
    },
    {
     "data": {
      "image/png": "[encoded data removed]",
      "text/plain": [
       "<Figure size 720x792 with 1 Axes>"
      ]
     },
     "metadata": {
      "needs_background": "light"
     },
     "output_type": "display_data"
    }
   ],
   "source": [
    "#bar graph of genre column\n",
    "plt.figure(figsize = (10,11))\n",
    "sns.countplot(y = 'genre', data = data)"
   ]
  },
  {
   "cell_type": "markdown",
   "id": "abf19772",
   "metadata": {},
   "source": [
    "-  from the above bar graph we can see that there are more number of drama genred movies/tv shows are there\n",
    "- and Comedy,Romance,Action,Reality,Thriller,Family,Sport,Animatio genred movies/tv shows are in considerable range \n",
    "- whene it comes to musical and concert based genres there  are very few in number \n",
    "-  movies/ tv shows of Shorts,Travel,Docudrama,Food,Fantasy,Kabaddiand football are on the y-axis line "
   ]
  },
  {
   "cell_type": "markdown",
   "id": "f5813e79",
   "metadata": {},
   "source": [
    "## age_ratting variable"
   ]
  },
  {
   "cell_type": "code",
   "execution_count": 43,
   "id": "4a39c683",
   "metadata": {},
   "outputs": [
    {
     "data": {
      "image/png": "[encoded data removed]",
      "text/plain": [
       "<Figure size 3600x720 with 1 Axes>"
      ]
     },
     "metadata": {
      "needs_background": "light"
     },
     "output_type": "display_data"
    }
   ],
   "source": [
    "# bar graph of age_ratting column\n",
    "plt.figure(figsize = (50,10))\n",
    "data.age_rating.value_counts(normalize = True).plot.barh()\n",
    "plt.show()\n"
   ]
  },
  {
   "cell_type": "markdown",
   "id": "b0d8765d",
   "metadata": {},
   "source": [
    "- we can get the insights of bar graph of age_ratting variable is as follows\n",
    "- there are more movie/tvshows of U/A13+ ratting which means 13 above aged any person can watch them\n",
    "- and there are considrable range of moves/tv shows of U,U/A7+,U/A16+ \n",
    "- there are adult movies and PG and G movies\n"
   ]
  },
  {
   "cell_type": "markdown",
   "id": "89c114e7",
   "metadata": {},
   "source": [
    "##  Bivariate  Analysis\n",
    "###  Numeric- numeric analysis"
   ]
  },
  {
   "cell_type": "markdown",
   "id": "4f2e06c5",
   "metadata": {},
   "source": [
    "- There are three ways to analyse the numeric- numeric data types simultaneously.\n",
    "\n",
    "- Scatter plot: describes the pattern that how one variable is varying with other variable.\n",
    "- Correlation matrix: to describe the linearity of two numeric variables.\n",
    "- Pair plot: group of scatter plots of all numeric variables in the data frame."
   ]
  },
  {
   "cell_type": "markdown",
   "id": "86e4ac0a",
   "metadata": {},
   "source": [
    "- from the above scatter plot we can get the insight is that low numbered seasons have low episodes and high numbered seasons have more episodes\n"
   ]
  },
  {
   "cell_type": "markdown",
   "id": "7d2418d3",
   "metadata": {},
   "source": [
    " ## scatter plot: year Vs running time"
   ]
  },
  {
   "cell_type": "code",
   "execution_count": 44,
   "id": "39a450c9",
   "metadata": {},
   "outputs": [
    {
     "data": {
      "text/plain": [
       "<AxesSubplot:xlabel='year', ylabel='running_time'>"
      ]
     },
     "execution_count": 44,
     "metadata": {},
     "output_type": "execute_result"
    },
    {
     "data": {
      "image/png": "[encoded data removed]",
      "text/plain": [
       "<Figure size 432x288 with 1 Axes>"
      ]
     },
     "metadata": {
      "needs_background": "light"
     },
     "output_type": "display_data"
    }
   ],
   "source": [
    "#sacatter plot of seasons and running_time\n",
    "data.plot.scatter(x='year', y='running_time')"
   ]
  },
  {
   "cell_type": "markdown",
   "id": "d475f287",
   "metadata": {},
   "source": [
    "- from the above scatter plot we  can observe thathighest running time is in the year 2020 and least running time is at before the  year 1940\n",
    "- and between the years 1940-2020 maximum running time is 100 minutes to 150 minutes"
   ]
  },
  {
   "cell_type": "markdown",
   "id": "5e7ff66b",
   "metadata": {},
   "source": [
    "-  from the above scatter plot we can seee that most of the movies or tv shows were released in the year 2020 and 2022 and only one movie is released in the year 1942,1960,1951,1950,so on.\n",
    "- which means there are movies in 21st century than 20th century it is  also because of technoolgy improvement in 21st century"
   ]
  },
  {
   "cell_type": "markdown",
   "id": "ac428f75",
   "metadata": {},
   "source": [
    "- the running time vs year scatter plot shows that the running time increasing with year the running time is more after the year 2010"
   ]
  },
  {
   "cell_type": "markdown",
   "id": "8354b150",
   "metadata": {},
   "source": [
    " ## Numerical categorical variable"
   ]
  },
  {
   "cell_type": "markdown",
   "id": "b8f771c5",
   "metadata": {},
   "source": [
    "### running_time vs type "
   ]
  },
  {
   "cell_type": "code",
   "execution_count": 45,
   "id": "36c8a8dc",
   "metadata": {},
   "outputs": [
    {
     "data": {
      "text/plain": [
       "<AxesSubplot:xlabel='type'>"
      ]
     },
     "execution_count": 45,
     "metadata": {},
     "output_type": "execute_result"
    },
    {
     "data": {
      "image/png": "[encoded data removed]",
      "text/plain": [
       "<Figure size 432x288 with 1 Axes>"
      ]
     },
     "metadata": {
      "needs_background": "light"
     },
     "output_type": "display_data"
    }
   ],
   "source": [
    "# mean bar graph of type and running_time variables\n",
    "data_no.groupby('type')['running_time'].mean().plot.bar()"
   ]
  },
  {
   "cell_type": "markdown",
   "id": "925f278c",
   "metadata": {},
   "source": [
    "- we can see that  the mean of tv  shows and movies is same with running time"
   ]
  },
  {
   "cell_type": "code",
   "execution_count": 46,
   "id": "a31e3be7",
   "metadata": {},
   "outputs": [
    {
     "data": {
      "text/plain": [
       "<AxesSubplot:xlabel='running_time', ylabel='Density'>"
      ]
     },
     "execution_count": 46,
     "metadata": {},
     "output_type": "execute_result"
    },
    {
     "data": {
      "image/png": "[encoded data removed]",
      "text/plain": [
       "<Figure size 432x288 with 1 Axes>"
      ]
     },
     "metadata": {
      "needs_background": "light"
     },
     "output_type": "display_data"
    }
   ],
   "source": [
    "\n",
    "#kde plot of running_type vs type\n",
    "sns.kdeplot(x='running_time',data= data_no, hue='type')"
   ]
  },
  {
   "cell_type": "markdown",
   "id": "253146d6",
   "metadata": {},
   "source": [
    "- the desnisty of tv shosis increasing where as the  density if movies  is  constant in the running time kde plot"
   ]
  },
  {
   "cell_type": "markdown",
   "id": "5e7546b0",
   "metadata": {},
   "source": [
    "## running_time vs genre"
   ]
  },
  {
   "cell_type": "code",
   "execution_count": 47,
   "id": "391b1388",
   "metadata": {},
   "outputs": [
    {
     "data": {
      "text/plain": [
       "<AxesSubplot:xlabel='genre'>"
      ]
     },
     "execution_count": 47,
     "metadata": {},
     "output_type": "execute_result"
    },
    {
     "data": {
      "image/png": "[encoded data removed]",
      "text/plain": [
       "<Figure size 432x288 with 1 Axes>"
      ]
     },
     "metadata": {
      "needs_background": "light"
     },
     "output_type": "display_data"
    }
   ],
   "source": [
    "# mean bar graph of type and running_time variables\n",
    "data_no.groupby('genre')['running_time'].mean().plot.bar()"
   ]
  },
  {
   "cell_type": "markdown",
   "id": "17008b68",
   "metadata": {},
   "source": [
    "- from the above runnig_time vs genre bar graph we can see that action movies  have highest running time\n",
    "- we can see that animation movies  and standup comedy have  the running time 90 minutes which are least \n",
    "- rest all genres have avg runtime of 100 minutes"
   ]
  },
  {
   "cell_type": "markdown",
   "id": "ec948892",
   "metadata": {},
   "source": [
    "## runnig_time vs age_rating"
   ]
  },
  {
   "cell_type": "code",
   "execution_count": 48,
   "id": "dcecf510",
   "metadata": {},
   "outputs": [
    {
     "data": {
      "text/plain": [
       "<AxesSubplot:xlabel='age_rating'>"
      ]
     },
     "execution_count": 48,
     "metadata": {},
     "output_type": "execute_result"
    },
    {
     "data": {
      "image/png": "[encoded data removed]",
      "text/plain": [
       "<Figure size 432x288 with 1 Axes>"
      ]
     },
     "metadata": {
      "needs_background": "light"
     },
     "output_type": "display_data"
    }
   ],
   "source": [
    "# mean bar graph of type and running_time variables\n",
    "data_no.groupby('age_rating')['running_time'].mean().plot.bar()"
   ]
  },
  {
   "cell_type": "markdown",
   "id": "33d3ea40",
   "metadata": {},
   "source": [
    "-  from the above graph we can see that the running time of the movies age_rated  A rated movies or tv shows has less running time compared to other rated movies or tv shows\n",
    "- 12+,15+ and have highest runnning time time "
   ]
  },
  {
   "cell_type": "markdown",
   "id": "158f10fe",
   "metadata": {},
   "source": [
    "## year vs age_rating"
   ]
  },
  {
   "cell_type": "code",
   "execution_count": 49,
   "id": "7ae4af9e",
   "metadata": {},
   "outputs": [
    {
     "data": {
      "text/plain": [
       "<AxesSubplot:xlabel='age_rating'>"
      ]
     },
     "execution_count": 49,
     "metadata": {},
     "output_type": "execute_result"
    },
    {
     "data": {
      "image/png": "[encoded data removed]",
      "text/plain": [
       "<Figure size 432x288 with 1 Axes>"
      ]
     },
     "metadata": {
      "needs_background": "light"
     },
     "output_type": "display_data"
    }
   ],
   "source": [
    "# mean bar graph of year and age rating variables\n",
    "data.groupby('age_rating')['year'].mean().plot.bar()"
   ]
  },
  {
   "cell_type": "markdown",
   "id": "d5d9f53e",
   "metadata": {},
   "source": [
    "- we can see that upto 2004 U/A 16 + were relesed later all type of movies or tv shows  are releasing "
   ]
  },
  {
   "cell_type": "code",
   "execution_count": null,
   "id": "1e90dd3f",
   "metadata": {},
   "outputs": [],
   "source": []
  },
  {
   "cell_type": "markdown",
   "id": "bf10f472",
   "metadata": {},
   "source": [
    "## year Vs genre"
   ]
  },
  {
   "cell_type": "code",
   "execution_count": 50,
   "id": "19884b3e",
   "metadata": {},
   "outputs": [
    {
     "data": {
      "text/plain": [
       "genre\n",
       "Action              2009.943396\n",
       "Adventure           2012.045455\n",
       "Animals & Nature    2019.092437\n",
       "Animation           2004.484305\n",
       "Awards              2017.925926\n",
       "Biopic              2011.550000\n",
       "Comedy              2010.473475\n",
       "Concert Film        2017.750000\n",
       "Crime               2014.168539\n",
       "Docudrama           2013.833333\n",
       "Documentary         2018.079096\n",
       "Drama               2008.659468\n",
       "Family              2005.732794\n",
       "Fantasy             2019.666667\n",
       "Food                2018.833333\n",
       "Historical          2015.121951\n",
       "Horror              2014.260417\n",
       "Kabaddi             2015.000000\n",
       "Kids                2009.615385\n",
       "Lifestyle           2017.730769\n",
       "Musical             2004.266667\n",
       "Mystery             2014.576923\n",
       "Mythology           2013.250000\n",
       "Reality             2018.254642\n",
       "Romance             2009.252475\n",
       "Science             2017.735294\n",
       "Science Fiction     2006.815789\n",
       "Shorts              2021.571429\n",
       "Sport               2018.326923\n",
       "Standup Comedy      2007.882353\n",
       "Superhero           2015.049180\n",
       "Talk Show           2016.287500\n",
       "Teen                2014.064516\n",
       "Thriller            2009.828571\n",
       "Travel              2019.000000\n",
       "Name: year, dtype: float64"
      ]
     },
     "execution_count": 50,
     "metadata": {},
     "output_type": "execute_result"
    }
   ],
   "source": [
    "# mean bar graph of year and genre variables\n",
    "data.groupby('genre')['year'].mean()"
   ]
  },
  {
   "cell_type": "markdown",
   "id": "4db7e4f5",
   "metadata": {},
   "source": [
    "## Categorical- Categorical"
   ]
  },
  {
   "cell_type": "markdown",
   "id": "0b2d59e0",
   "metadata": {},
   "source": [
    "###  genre Vs age_rating"
   ]
  },
  {
   "cell_type": "code",
   "execution_count": 51,
   "id": "87088127",
   "metadata": {},
   "outputs": [
    {
     "data": {
      "text/html": [
       "<div>\n",
       "<style scoped>\n",
       "    .dataframe tbody tr th:only-of-type {\n",
       "        vertical-align: middle;\n",
       "    }\n",
       "\n",
       "    .dataframe tbody tr th {\n",
       "        vertical-align: top;\n",
       "    }\n",
       "\n",
       "    .dataframe thead th {\n",
       "        text-align: right;\n",
       "    }\n",
       "</style>\n",
       "<table border=\"1\" class=\"dataframe\">\n",
       "  <thead>\n",
       "    <tr style=\"text-align: right;\">\n",
       "      <th>age_rating</th>\n",
       "      <th>12+</th>\n",
       "      <th>15+</th>\n",
       "      <th>A</th>\n",
       "      <th>G</th>\n",
       "      <th>PG</th>\n",
       "      <th>U</th>\n",
       "      <th>U/A 13+</th>\n",
       "      <th>U/A 16+</th>\n",
       "      <th>U/A 7+</th>\n",
       "    </tr>\n",
       "    <tr>\n",
       "      <th>genre</th>\n",
       "      <th></th>\n",
       "      <th></th>\n",
       "      <th></th>\n",
       "      <th></th>\n",
       "      <th></th>\n",
       "      <th></th>\n",
       "      <th></th>\n",
       "      <th></th>\n",
       "      <th></th>\n",
       "    </tr>\n",
       "  </thead>\n",
       "  <tbody>\n",
       "    <tr>\n",
       "      <th>Action</th>\n",
       "      <td>0</td>\n",
       "      <td>0</td>\n",
       "      <td>24</td>\n",
       "      <td>0</td>\n",
       "      <td>0</td>\n",
       "      <td>29</td>\n",
       "      <td>272</td>\n",
       "      <td>203</td>\n",
       "      <td>55</td>\n",
       "    </tr>\n",
       "    <tr>\n",
       "      <th>Adventure</th>\n",
       "      <td>0</td>\n",
       "      <td>0</td>\n",
       "      <td>0</td>\n",
       "      <td>0</td>\n",
       "      <td>0</td>\n",
       "      <td>8</td>\n",
       "      <td>6</td>\n",
       "      <td>0</td>\n",
       "      <td>30</td>\n",
       "    </tr>\n",
       "    <tr>\n",
       "      <th>Animals &amp; Nature</th>\n",
       "      <td>0</td>\n",
       "      <td>0</td>\n",
       "      <td>0</td>\n",
       "      <td>0</td>\n",
       "      <td>0</td>\n",
       "      <td>11</td>\n",
       "      <td>8</td>\n",
       "      <td>0</td>\n",
       "      <td>100</td>\n",
       "    </tr>\n",
       "    <tr>\n",
       "      <th>Animation</th>\n",
       "      <td>0</td>\n",
       "      <td>0</td>\n",
       "      <td>0</td>\n",
       "      <td>0</td>\n",
       "      <td>0</td>\n",
       "      <td>172</td>\n",
       "      <td>4</td>\n",
       "      <td>1</td>\n",
       "      <td>46</td>\n",
       "    </tr>\n",
       "    <tr>\n",
       "      <th>Awards</th>\n",
       "      <td>1</td>\n",
       "      <td>0</td>\n",
       "      <td>0</td>\n",
       "      <td>1</td>\n",
       "      <td>1</td>\n",
       "      <td>3</td>\n",
       "      <td>11</td>\n",
       "      <td>0</td>\n",
       "      <td>10</td>\n",
       "    </tr>\n",
       "    <tr>\n",
       "      <th>Biopic</th>\n",
       "      <td>0</td>\n",
       "      <td>0</td>\n",
       "      <td>4</td>\n",
       "      <td>0</td>\n",
       "      <td>0</td>\n",
       "      <td>9</td>\n",
       "      <td>14</td>\n",
       "      <td>8</td>\n",
       "      <td>5</td>\n",
       "    </tr>\n",
       "    <tr>\n",
       "      <th>Comedy</th>\n",
       "      <td>1</td>\n",
       "      <td>2</td>\n",
       "      <td>42</td>\n",
       "      <td>2</td>\n",
       "      <td>5</td>\n",
       "      <td>114</td>\n",
       "      <td>302</td>\n",
       "      <td>98</td>\n",
       "      <td>188</td>\n",
       "    </tr>\n",
       "    <tr>\n",
       "      <th>Concert Film</th>\n",
       "      <td>0</td>\n",
       "      <td>0</td>\n",
       "      <td>0</td>\n",
       "      <td>3</td>\n",
       "      <td>0</td>\n",
       "      <td>7</td>\n",
       "      <td>1</td>\n",
       "      <td>0</td>\n",
       "      <td>1</td>\n",
       "    </tr>\n",
       "    <tr>\n",
       "      <th>Crime</th>\n",
       "      <td>0</td>\n",
       "      <td>3</td>\n",
       "      <td>11</td>\n",
       "      <td>0</td>\n",
       "      <td>0</td>\n",
       "      <td>1</td>\n",
       "      <td>28</td>\n",
       "      <td>44</td>\n",
       "      <td>2</td>\n",
       "    </tr>\n",
       "    <tr>\n",
       "      <th>Docudrama</th>\n",
       "      <td>0</td>\n",
       "      <td>0</td>\n",
       "      <td>1</td>\n",
       "      <td>0</td>\n",
       "      <td>0</td>\n",
       "      <td>0</td>\n",
       "      <td>3</td>\n",
       "      <td>2</td>\n",
       "      <td>0</td>\n",
       "    </tr>\n",
       "    <tr>\n",
       "      <th>Documentary</th>\n",
       "      <td>0</td>\n",
       "      <td>0</td>\n",
       "      <td>5</td>\n",
       "      <td>0</td>\n",
       "      <td>1</td>\n",
       "      <td>32</td>\n",
       "      <td>43</td>\n",
       "      <td>28</td>\n",
       "      <td>68</td>\n",
       "    </tr>\n",
       "    <tr>\n",
       "      <th>Drama</th>\n",
       "      <td>2</td>\n",
       "      <td>1</td>\n",
       "      <td>85</td>\n",
       "      <td>6</td>\n",
       "      <td>26</td>\n",
       "      <td>265</td>\n",
       "      <td>909</td>\n",
       "      <td>301</td>\n",
       "      <td>211</td>\n",
       "    </tr>\n",
       "    <tr>\n",
       "      <th>Family</th>\n",
       "      <td>1</td>\n",
       "      <td>0</td>\n",
       "      <td>0</td>\n",
       "      <td>2</td>\n",
       "      <td>7</td>\n",
       "      <td>63</td>\n",
       "      <td>107</td>\n",
       "      <td>5</td>\n",
       "      <td>62</td>\n",
       "    </tr>\n",
       "    <tr>\n",
       "      <th>Fantasy</th>\n",
       "      <td>0</td>\n",
       "      <td>0</td>\n",
       "      <td>0</td>\n",
       "      <td>0</td>\n",
       "      <td>0</td>\n",
       "      <td>0</td>\n",
       "      <td>0</td>\n",
       "      <td>0</td>\n",
       "      <td>3</td>\n",
       "    </tr>\n",
       "    <tr>\n",
       "      <th>Food</th>\n",
       "      <td>0</td>\n",
       "      <td>0</td>\n",
       "      <td>0</td>\n",
       "      <td>0</td>\n",
       "      <td>0</td>\n",
       "      <td>1</td>\n",
       "      <td>2</td>\n",
       "      <td>0</td>\n",
       "      <td>3</td>\n",
       "    </tr>\n",
       "    <tr>\n",
       "      <th>Historical</th>\n",
       "      <td>0</td>\n",
       "      <td>0</td>\n",
       "      <td>6</td>\n",
       "      <td>0</td>\n",
       "      <td>0</td>\n",
       "      <td>2</td>\n",
       "      <td>17</td>\n",
       "      <td>13</td>\n",
       "      <td>3</td>\n",
       "    </tr>\n",
       "    <tr>\n",
       "      <th>Horror</th>\n",
       "      <td>0</td>\n",
       "      <td>0</td>\n",
       "      <td>15</td>\n",
       "      <td>0</td>\n",
       "      <td>0</td>\n",
       "      <td>3</td>\n",
       "      <td>33</td>\n",
       "      <td>44</td>\n",
       "      <td>1</td>\n",
       "    </tr>\n",
       "    <tr>\n",
       "      <th>Kabaddi</th>\n",
       "      <td>0</td>\n",
       "      <td>0</td>\n",
       "      <td>0</td>\n",
       "      <td>0</td>\n",
       "      <td>1</td>\n",
       "      <td>0</td>\n",
       "      <td>0</td>\n",
       "      <td>0</td>\n",
       "      <td>0</td>\n",
       "    </tr>\n",
       "    <tr>\n",
       "      <th>Kids</th>\n",
       "      <td>0</td>\n",
       "      <td>0</td>\n",
       "      <td>0</td>\n",
       "      <td>1</td>\n",
       "      <td>0</td>\n",
       "      <td>61</td>\n",
       "      <td>11</td>\n",
       "      <td>0</td>\n",
       "      <td>31</td>\n",
       "    </tr>\n",
       "    <tr>\n",
       "      <th>Lifestyle</th>\n",
       "      <td>0</td>\n",
       "      <td>0</td>\n",
       "      <td>0</td>\n",
       "      <td>2</td>\n",
       "      <td>0</td>\n",
       "      <td>4</td>\n",
       "      <td>9</td>\n",
       "      <td>0</td>\n",
       "      <td>11</td>\n",
       "    </tr>\n",
       "    <tr>\n",
       "      <th>Musical</th>\n",
       "      <td>0</td>\n",
       "      <td>0</td>\n",
       "      <td>0</td>\n",
       "      <td>0</td>\n",
       "      <td>0</td>\n",
       "      <td>4</td>\n",
       "      <td>2</td>\n",
       "      <td>5</td>\n",
       "      <td>4</td>\n",
       "    </tr>\n",
       "    <tr>\n",
       "      <th>Mystery</th>\n",
       "      <td>0</td>\n",
       "      <td>0</td>\n",
       "      <td>1</td>\n",
       "      <td>1</td>\n",
       "      <td>0</td>\n",
       "      <td>6</td>\n",
       "      <td>9</td>\n",
       "      <td>8</td>\n",
       "      <td>1</td>\n",
       "    </tr>\n",
       "    <tr>\n",
       "      <th>Mythology</th>\n",
       "      <td>2</td>\n",
       "      <td>0</td>\n",
       "      <td>0</td>\n",
       "      <td>0</td>\n",
       "      <td>6</td>\n",
       "      <td>11</td>\n",
       "      <td>49</td>\n",
       "      <td>0</td>\n",
       "      <td>8</td>\n",
       "    </tr>\n",
       "    <tr>\n",
       "      <th>Reality</th>\n",
       "      <td>11</td>\n",
       "      <td>2</td>\n",
       "      <td>0</td>\n",
       "      <td>29</td>\n",
       "      <td>36</td>\n",
       "      <td>71</td>\n",
       "      <td>140</td>\n",
       "      <td>13</td>\n",
       "      <td>75</td>\n",
       "    </tr>\n",
       "    <tr>\n",
       "      <th>Romance</th>\n",
       "      <td>0</td>\n",
       "      <td>1</td>\n",
       "      <td>7</td>\n",
       "      <td>2</td>\n",
       "      <td>17</td>\n",
       "      <td>116</td>\n",
       "      <td>330</td>\n",
       "      <td>69</td>\n",
       "      <td>64</td>\n",
       "    </tr>\n",
       "    <tr>\n",
       "      <th>Science</th>\n",
       "      <td>0</td>\n",
       "      <td>0</td>\n",
       "      <td>0</td>\n",
       "      <td>0</td>\n",
       "      <td>0</td>\n",
       "      <td>1</td>\n",
       "      <td>6</td>\n",
       "      <td>1</td>\n",
       "      <td>26</td>\n",
       "    </tr>\n",
       "    <tr>\n",
       "      <th>Science Fiction</th>\n",
       "      <td>0</td>\n",
       "      <td>0</td>\n",
       "      <td>4</td>\n",
       "      <td>0</td>\n",
       "      <td>0</td>\n",
       "      <td>3</td>\n",
       "      <td>23</td>\n",
       "      <td>3</td>\n",
       "      <td>5</td>\n",
       "    </tr>\n",
       "    <tr>\n",
       "      <th>Shorts</th>\n",
       "      <td>0</td>\n",
       "      <td>0</td>\n",
       "      <td>0</td>\n",
       "      <td>0</td>\n",
       "      <td>0</td>\n",
       "      <td>1</td>\n",
       "      <td>4</td>\n",
       "      <td>2</td>\n",
       "      <td>0</td>\n",
       "    </tr>\n",
       "    <tr>\n",
       "      <th>Sport</th>\n",
       "      <td>0</td>\n",
       "      <td>0</td>\n",
       "      <td>1</td>\n",
       "      <td>21</td>\n",
       "      <td>147</td>\n",
       "      <td>8</td>\n",
       "      <td>25</td>\n",
       "      <td>1</td>\n",
       "      <td>5</td>\n",
       "    </tr>\n",
       "    <tr>\n",
       "      <th>Standup Comedy</th>\n",
       "      <td>0</td>\n",
       "      <td>0</td>\n",
       "      <td>34</td>\n",
       "      <td>0</td>\n",
       "      <td>0</td>\n",
       "      <td>0</td>\n",
       "      <td>3</td>\n",
       "      <td>14</td>\n",
       "      <td>0</td>\n",
       "    </tr>\n",
       "    <tr>\n",
       "      <th>Superhero</th>\n",
       "      <td>0</td>\n",
       "      <td>0</td>\n",
       "      <td>3</td>\n",
       "      <td>0</td>\n",
       "      <td>0</td>\n",
       "      <td>0</td>\n",
       "      <td>44</td>\n",
       "      <td>10</td>\n",
       "      <td>4</td>\n",
       "    </tr>\n",
       "    <tr>\n",
       "      <th>Talk Show</th>\n",
       "      <td>0</td>\n",
       "      <td>0</td>\n",
       "      <td>2</td>\n",
       "      <td>11</td>\n",
       "      <td>5</td>\n",
       "      <td>29</td>\n",
       "      <td>22</td>\n",
       "      <td>4</td>\n",
       "      <td>7</td>\n",
       "    </tr>\n",
       "    <tr>\n",
       "      <th>Teen</th>\n",
       "      <td>0</td>\n",
       "      <td>0</td>\n",
       "      <td>0</td>\n",
       "      <td>0</td>\n",
       "      <td>0</td>\n",
       "      <td>7</td>\n",
       "      <td>18</td>\n",
       "      <td>1</td>\n",
       "      <td>5</td>\n",
       "    </tr>\n",
       "    <tr>\n",
       "      <th>Thriller</th>\n",
       "      <td>2</td>\n",
       "      <td>0</td>\n",
       "      <td>25</td>\n",
       "      <td>0</td>\n",
       "      <td>0</td>\n",
       "      <td>19</td>\n",
       "      <td>140</td>\n",
       "      <td>120</td>\n",
       "      <td>9</td>\n",
       "    </tr>\n",
       "    <tr>\n",
       "      <th>Travel</th>\n",
       "      <td>0</td>\n",
       "      <td>0</td>\n",
       "      <td>1</td>\n",
       "      <td>0</td>\n",
       "      <td>0</td>\n",
       "      <td>1</td>\n",
       "      <td>3</td>\n",
       "      <td>0</td>\n",
       "      <td>2</td>\n",
       "    </tr>\n",
       "  </tbody>\n",
       "</table>\n",
       "</div>"
      ],
      "text/plain": [
       "age_rating        12+  15+   A   G   PG    U  U/A 13+  U/A 16+  U/A 7+\n",
       "genre                                                                 \n",
       "Action              0    0  24   0    0   29      272      203      55\n",
       "Adventure           0    0   0   0    0    8        6        0      30\n",
       "Animals & Nature    0    0   0   0    0   11        8        0     100\n",
       "Animation           0    0   0   0    0  172        4        1      46\n",
       "Awards              1    0   0   1    1    3       11        0      10\n",
       "Biopic              0    0   4   0    0    9       14        8       5\n",
       "Comedy              1    2  42   2    5  114      302       98     188\n",
       "Concert Film        0    0   0   3    0    7        1        0       1\n",
       "Crime               0    3  11   0    0    1       28       44       2\n",
       "Docudrama           0    0   1   0    0    0        3        2       0\n",
       "Documentary         0    0   5   0    1   32       43       28      68\n",
       "Drama               2    1  85   6   26  265      909      301     211\n",
       "Family              1    0   0   2    7   63      107        5      62\n",
       "Fantasy             0    0   0   0    0    0        0        0       3\n",
       "Food                0    0   0   0    0    1        2        0       3\n",
       "Historical          0    0   6   0    0    2       17       13       3\n",
       "Horror              0    0  15   0    0    3       33       44       1\n",
       "Kabaddi             0    0   0   0    1    0        0        0       0\n",
       "Kids                0    0   0   1    0   61       11        0      31\n",
       "Lifestyle           0    0   0   2    0    4        9        0      11\n",
       "Musical             0    0   0   0    0    4        2        5       4\n",
       "Mystery             0    0   1   1    0    6        9        8       1\n",
       "Mythology           2    0   0   0    6   11       49        0       8\n",
       "Reality            11    2   0  29   36   71      140       13      75\n",
       "Romance             0    1   7   2   17  116      330       69      64\n",
       "Science             0    0   0   0    0    1        6        1      26\n",
       "Science Fiction     0    0   4   0    0    3       23        3       5\n",
       "Shorts              0    0   0   0    0    1        4        2       0\n",
       "Sport               0    0   1  21  147    8       25        1       5\n",
       "Standup Comedy      0    0  34   0    0    0        3       14       0\n",
       "Superhero           0    0   3   0    0    0       44       10       4\n",
       "Talk Show           0    0   2  11    5   29       22        4       7\n",
       "Teen                0    0   0   0    0    7       18        1       5\n",
       "Thriller            2    0  25   0    0   19      140      120       9\n",
       "Travel              0    0   1   0    0    1        3        0       2"
      ]
     },
     "execution_count": 51,
     "metadata": {},
     "output_type": "execute_result"
    }
   ],
   "source": [
    "# crosstab of genre and age ratting variables\n",
    "pd.crosstab(data['genre'], data['age_rating'])"
   ]
  },
  {
   "cell_type": "markdown",
   "id": "3ecbbaa2",
   "metadata": {},
   "source": [
    "- from the above cross tab we can see which genre (movie or tv show) how many different age_rated movies or  tvshows are there"
   ]
  },
  {
   "cell_type": "code",
   "execution_count": 52,
   "id": "8d6c433e",
   "metadata": {},
   "outputs": [
    {
     "data": {
      "text/plain": [
       "<AxesSubplot:xlabel='age_rating', ylabel='genre'>"
      ]
     },
     "execution_count": 52,
     "metadata": {},
     "output_type": "execute_result"
    },
    {
     "data": {
      "image/png": "[encoded data removed]",
      "text/plain": [
       "<Figure size 432x288 with 2 Axes>"
      ]
     },
     "metadata": {
      "needs_background": "light"
     },
     "output_type": "display_data"
    }
   ],
   "source": [
    "#heat map of genre and age_Rating variables\n",
    "sns.heatmap(pd.crosstab(data['genre'], data['age_rating']),cmap='Reds')"
   ]
  },
  {
   "cell_type": "markdown",
   "id": "b551b03f",
   "metadata": {},
   "source": [
    "- we can see that the corelation between U/A 13+ AND 16+ of documentary films is high and almost all genres  are comes under them\n",
    "- Action movies or tv shows can be  seen by ages above 7+ which is evident from above heat map\n",
    "- there is A content in Thriller Standup comedy\n",
    "- Shorts are related  to PG\n"
   ]
  },
  {
   "cell_type": "markdown",
   "id": "4367f7df",
   "metadata": {},
   "source": [
    "### genre Vs type"
   ]
  },
  {
   "cell_type": "code",
   "execution_count": 53,
   "id": "d64c7cde",
   "metadata": {},
   "outputs": [
    {
     "data": {
      "text/html": [
       "<div>\n",
       "<style scoped>\n",
       "    .dataframe tbody tr th:only-of-type {\n",
       "        vertical-align: middle;\n",
       "    }\n",
       "\n",
       "    .dataframe tbody tr th {\n",
       "        vertical-align: top;\n",
       "    }\n",
       "\n",
       "    .dataframe thead th {\n",
       "        text-align: right;\n",
       "    }\n",
       "</style>\n",
       "<table border=\"1\" class=\"dataframe\">\n",
       "  <thead>\n",
       "    <tr style=\"text-align: right;\">\n",
       "      <th>type</th>\n",
       "      <th>movie</th>\n",
       "      <th>tv</th>\n",
       "    </tr>\n",
       "    <tr>\n",
       "      <th>genre</th>\n",
       "      <th></th>\n",
       "      <th></th>\n",
       "    </tr>\n",
       "  </thead>\n",
       "  <tbody>\n",
       "    <tr>\n",
       "      <th>Action</th>\n",
       "      <td>535</td>\n",
       "      <td>48</td>\n",
       "    </tr>\n",
       "    <tr>\n",
       "      <th>Adventure</th>\n",
       "      <td>40</td>\n",
       "      <td>4</td>\n",
       "    </tr>\n",
       "    <tr>\n",
       "      <th>Animals &amp; Nature</th>\n",
       "      <td>53</td>\n",
       "      <td>66</td>\n",
       "    </tr>\n",
       "    <tr>\n",
       "      <th>Animation</th>\n",
       "      <td>221</td>\n",
       "      <td>2</td>\n",
       "    </tr>\n",
       "    <tr>\n",
       "      <th>Awards</th>\n",
       "      <td>0</td>\n",
       "      <td>27</td>\n",
       "    </tr>\n",
       "    <tr>\n",
       "      <th>Biopic</th>\n",
       "      <td>35</td>\n",
       "      <td>5</td>\n",
       "    </tr>\n",
       "    <tr>\n",
       "      <th>Comedy</th>\n",
       "      <td>503</td>\n",
       "      <td>251</td>\n",
       "    </tr>\n",
       "    <tr>\n",
       "      <th>Concert Film</th>\n",
       "      <td>2</td>\n",
       "      <td>10</td>\n",
       "    </tr>\n",
       "    <tr>\n",
       "      <th>Crime</th>\n",
       "      <td>50</td>\n",
       "      <td>39</td>\n",
       "    </tr>\n",
       "    <tr>\n",
       "      <th>Docudrama</th>\n",
       "      <td>2</td>\n",
       "      <td>4</td>\n",
       "    </tr>\n",
       "    <tr>\n",
       "      <th>Documentary</th>\n",
       "      <td>124</td>\n",
       "      <td>53</td>\n",
       "    </tr>\n",
       "    <tr>\n",
       "      <th>Drama</th>\n",
       "      <td>1355</td>\n",
       "      <td>451</td>\n",
       "    </tr>\n",
       "    <tr>\n",
       "      <th>Family</th>\n",
       "      <td>147</td>\n",
       "      <td>100</td>\n",
       "    </tr>\n",
       "    <tr>\n",
       "      <th>Fantasy</th>\n",
       "      <td>3</td>\n",
       "      <td>0</td>\n",
       "    </tr>\n",
       "    <tr>\n",
       "      <th>Food</th>\n",
       "      <td>0</td>\n",
       "      <td>6</td>\n",
       "    </tr>\n",
       "    <tr>\n",
       "      <th>Historical</th>\n",
       "      <td>31</td>\n",
       "      <td>10</td>\n",
       "    </tr>\n",
       "    <tr>\n",
       "      <th>Horror</th>\n",
       "      <td>82</td>\n",
       "      <td>14</td>\n",
       "    </tr>\n",
       "    <tr>\n",
       "      <th>Kabaddi</th>\n",
       "      <td>0</td>\n",
       "      <td>1</td>\n",
       "    </tr>\n",
       "    <tr>\n",
       "      <th>Kids</th>\n",
       "      <td>48</td>\n",
       "      <td>56</td>\n",
       "    </tr>\n",
       "    <tr>\n",
       "      <th>Lifestyle</th>\n",
       "      <td>0</td>\n",
       "      <td>26</td>\n",
       "    </tr>\n",
       "    <tr>\n",
       "      <th>Musical</th>\n",
       "      <td>14</td>\n",
       "      <td>1</td>\n",
       "    </tr>\n",
       "    <tr>\n",
       "      <th>Mystery</th>\n",
       "      <td>22</td>\n",
       "      <td>4</td>\n",
       "    </tr>\n",
       "    <tr>\n",
       "      <th>Mythology</th>\n",
       "      <td>15</td>\n",
       "      <td>61</td>\n",
       "    </tr>\n",
       "    <tr>\n",
       "      <th>Reality</th>\n",
       "      <td>1</td>\n",
       "      <td>376</td>\n",
       "    </tr>\n",
       "    <tr>\n",
       "      <th>Romance</th>\n",
       "      <td>467</td>\n",
       "      <td>139</td>\n",
       "    </tr>\n",
       "    <tr>\n",
       "      <th>Science</th>\n",
       "      <td>20</td>\n",
       "      <td>14</td>\n",
       "    </tr>\n",
       "    <tr>\n",
       "      <th>Science Fiction</th>\n",
       "      <td>36</td>\n",
       "      <td>2</td>\n",
       "    </tr>\n",
       "    <tr>\n",
       "      <th>Shorts</th>\n",
       "      <td>1</td>\n",
       "      <td>6</td>\n",
       "    </tr>\n",
       "    <tr>\n",
       "      <th>Sport</th>\n",
       "      <td>2</td>\n",
       "      <td>206</td>\n",
       "    </tr>\n",
       "    <tr>\n",
       "      <th>Standup Comedy</th>\n",
       "      <td>49</td>\n",
       "      <td>2</td>\n",
       "    </tr>\n",
       "    <tr>\n",
       "      <th>Superhero</th>\n",
       "      <td>44</td>\n",
       "      <td>17</td>\n",
       "    </tr>\n",
       "    <tr>\n",
       "      <th>Talk Show</th>\n",
       "      <td>0</td>\n",
       "      <td>80</td>\n",
       "    </tr>\n",
       "    <tr>\n",
       "      <th>Teen</th>\n",
       "      <td>11</td>\n",
       "      <td>20</td>\n",
       "    </tr>\n",
       "    <tr>\n",
       "      <th>Thriller</th>\n",
       "      <td>274</td>\n",
       "      <td>41</td>\n",
       "    </tr>\n",
       "    <tr>\n",
       "      <th>Travel</th>\n",
       "      <td>1</td>\n",
       "      <td>6</td>\n",
       "    </tr>\n",
       "  </tbody>\n",
       "</table>\n",
       "</div>"
      ],
      "text/plain": [
       "type              movie   tv\n",
       "genre                       \n",
       "Action              535   48\n",
       "Adventure            40    4\n",
       "Animals & Nature     53   66\n",
       "Animation           221    2\n",
       "Awards                0   27\n",
       "Biopic               35    5\n",
       "Comedy              503  251\n",
       "Concert Film          2   10\n",
       "Crime                50   39\n",
       "Docudrama             2    4\n",
       "Documentary         124   53\n",
       "Drama              1355  451\n",
       "Family              147  100\n",
       "Fantasy               3    0\n",
       "Food                  0    6\n",
       "Historical           31   10\n",
       "Horror               82   14\n",
       "Kabaddi               0    1\n",
       "Kids                 48   56\n",
       "Lifestyle             0   26\n",
       "Musical              14    1\n",
       "Mystery              22    4\n",
       "Mythology            15   61\n",
       "Reality               1  376\n",
       "Romance             467  139\n",
       "Science              20   14\n",
       "Science Fiction      36    2\n",
       "Shorts                1    6\n",
       "Sport                 2  206\n",
       "Standup Comedy       49    2\n",
       "Superhero            44   17\n",
       "Talk Show             0   80\n",
       "Teen                 11   20\n",
       "Thriller            274   41\n",
       "Travel                1    6"
      ]
     },
     "execution_count": 53,
     "metadata": {},
     "output_type": "execute_result"
    }
   ],
   "source": [
    "# cross tab of genre and type variables\n",
    "pd.crosstab(data['genre'], data['type'])"
   ]
  },
  {
   "cell_type": "markdown",
   "id": "f0d0e112",
   "metadata": {},
   "source": [
    "- from the above cross tab we can see which genre movie have how many tv shows or movies in it "
   ]
  },
  {
   "cell_type": "code",
   "execution_count": 54,
   "id": "ec0cd0fd",
   "metadata": {},
   "outputs": [
    {
     "data": {
      "text/plain": [
       "<AxesSubplot:xlabel='type', ylabel='genre'>"
      ]
     },
     "execution_count": 54,
     "metadata": {},
     "output_type": "execute_result"
    },
    {
     "data": {
      "image/png": "[encoded data removed]",
      "text/plain": [
       "<Figure size 432x288 with 2 Axes>"
      ]
     },
     "metadata": {
      "needs_background": "light"
     },
     "output_type": "display_data"
    }
   ],
   "source": [
    "#heat map of genre and type\n",
    "sns.heatmap(pd.crosstab(data_no['genre'], data_no['type']),cmap='Reds')"
   ]
  },
  {
   "cell_type": "markdown",
   "id": "2b64afc2",
   "metadata": {},
   "source": [
    "- from the above heatmap we can se that documentries are highly corelated with movies and also with tv shows\n",
    "- Science reality genres are highly with movies \n",
    "- science mystery aree with tv shows\n",
    "- thrillers are movies\n",
    "- shorts and talk shows are tv shows \n",
    "- Comedy  action are movies\n"
   ]
  },
  {
   "cell_type": "code",
   "execution_count": null,
   "id": "ba61da3f",
   "metadata": {},
   "outputs": [],
   "source": []
  },
  {
   "cell_type": "markdown",
   "id": "56f383a9",
   "metadata": {},
   "source": [
    " ### type Vs age_rating"
   ]
  },
  {
   "cell_type": "code",
   "execution_count": 55,
   "id": "83291862",
   "metadata": {},
   "outputs": [
    {
     "data": {
      "text/html": [
       "<div>\n",
       "<style scoped>\n",
       "    .dataframe tbody tr th:only-of-type {\n",
       "        vertical-align: middle;\n",
       "    }\n",
       "\n",
       "    .dataframe tbody tr th {\n",
       "        vertical-align: top;\n",
       "    }\n",
       "\n",
       "    .dataframe thead th {\n",
       "        text-align: right;\n",
       "    }\n",
       "</style>\n",
       "<table border=\"1\" class=\"dataframe\">\n",
       "  <thead>\n",
       "    <tr style=\"text-align: right;\">\n",
       "      <th>age_rating</th>\n",
       "      <th>12+</th>\n",
       "      <th>15+</th>\n",
       "      <th>A</th>\n",
       "      <th>G</th>\n",
       "      <th>PG</th>\n",
       "      <th>U</th>\n",
       "      <th>U/A 13+</th>\n",
       "      <th>U/A 16+</th>\n",
       "      <th>U/A 7+</th>\n",
       "    </tr>\n",
       "    <tr>\n",
       "      <th>type</th>\n",
       "      <th></th>\n",
       "      <th></th>\n",
       "      <th></th>\n",
       "      <th></th>\n",
       "      <th></th>\n",
       "      <th></th>\n",
       "      <th></th>\n",
       "      <th></th>\n",
       "      <th></th>\n",
       "    </tr>\n",
       "  </thead>\n",
       "  <tbody>\n",
       "    <tr>\n",
       "      <th>movie</th>\n",
       "      <td>0</td>\n",
       "      <td>0</td>\n",
       "      <td>148</td>\n",
       "      <td>0</td>\n",
       "      <td>0</td>\n",
       "      <td>855</td>\n",
       "      <td>1655</td>\n",
       "      <td>802</td>\n",
       "      <td>728</td>\n",
       "    </tr>\n",
       "    <tr>\n",
       "      <th>tv</th>\n",
       "      <td>20</td>\n",
       "      <td>9</td>\n",
       "      <td>123</td>\n",
       "      <td>81</td>\n",
       "      <td>252</td>\n",
       "      <td>207</td>\n",
       "      <td>943</td>\n",
       "      <td>196</td>\n",
       "      <td>317</td>\n",
       "    </tr>\n",
       "  </tbody>\n",
       "</table>\n",
       "</div>"
      ],
      "text/plain": [
       "age_rating  12+  15+    A   G   PG    U  U/A 13+  U/A 16+  U/A 7+\n",
       "type                                                             \n",
       "movie         0    0  148   0    0  855     1655      802     728\n",
       "tv           20    9  123  81  252  207      943      196     317"
      ]
     },
     "execution_count": 55,
     "metadata": {},
     "output_type": "execute_result"
    }
   ],
   "source": [
    "# cross tab of type and age_rating\n",
    "pd.crosstab(data['type'], data['age_rating'])"
   ]
  },
  {
   "cell_type": "markdown",
   "id": "5491c550",
   "metadata": {},
   "source": [
    "- from the above cross tab we can  observe that which  type of movie/tvshows have how many different age rated"
   ]
  },
  {
   "cell_type": "code",
   "execution_count": 56,
   "id": "3b07c7ac",
   "metadata": {},
   "outputs": [
    {
     "data": {
      "text/plain": [
       "<AxesSubplot:xlabel='age_rating', ylabel='type'>"
      ]
     },
     "execution_count": 56,
     "metadata": {},
     "output_type": "execute_result"
    },
    {
     "data": {
      "image/png": "[encoded data removed]",
      "text/plain": [
       "<Figure size 432x288 with 2 Axes>"
      ]
     },
     "metadata": {
      "needs_background": "light"
     },
     "output_type": "display_data"
    }
   ],
   "source": [
    "#heatmap of type and age_rating\n",
    "sns.heatmap(pd.crosstab(data['type'], data['age_rating']),cmap='Reds')"
   ]
  },
  {
   "cell_type": "markdown",
   "id": "8e18b379",
   "metadata": {},
   "source": [
    "- from the above heat map we can see that U/A 13+ has more movies and considerable range of tv shows also\n",
    "- u/A 16+,U/A 7+, U are correleated with movies \n",
    "- PG  and G corelated with tv shows\n",
    "- A rated have both movies and tv shows "
   ]
  },
  {
   "cell_type": "markdown",
   "id": "d6796b22",
   "metadata": {},
   "source": [
    "## Multivariate Analysis"
   ]
  },
  {
   "cell_type": "code",
   "execution_count": 132,
   "id": "fe101998",
   "metadata": {
    "scrolled": true
   },
   "outputs": [
    {
     "data": {
      "image/png": "[encoded data removed]",
      "text/plain": [
       "<Figure size 540x540 with 12 Axes>"
      ]
     },
     "metadata": {
      "needs_background": "light"
     },
     "output_type": "display_data"
    },
    {
     "data": {
      "text/plain": [
       "<Figure size 5040x2880 with 0 Axes>"
      ]
     },
     "metadata": {},
     "output_type": "display_data"
    }
   ],
   "source": [
    "#plot the pair plot of type, year, running_time variables in data\n",
    "sns.pairplot(data, vars=['type','year','running_time'])\n",
    "plt.figure(figsize = (70,40))\n",
    "plt.show()"
   ]
  },
  {
   "cell_type": "markdown",
   "id": "23f80653",
   "metadata": {},
   "source": [
    "- from the above pairplot in the type vs year graph most of the movies are started from the 1925 years where as tv shows started from 1975 \n",
    "- from type vs running time graph we can see that movies running time is mostly concentrated at 0-200 minutes where as tv shows running time is upto 300 minutes  \n",
    "- running_time vs year highest running_time density is recorded at the years above 2000\n"
   ]
  },
  {
   "cell_type": "code",
   "execution_count": 58,
   "id": "f9069876",
   "metadata": {},
   "outputs": [
    {
     "data": {
      "image/png": "[encoded data removed]",
      "text/plain": [
       "<Figure size 540x540 with 12 Axes>"
      ]
     },
     "metadata": {
      "needs_background": "light"
     },
     "output_type": "display_data"
    }
   ],
   "source": [
    "#plot the pair plot of age_rating , year, running_time in data \n",
    "sns.pairplot(data, vars=['age_rating','year','running_time'])\n",
    "plt.show()"
   ]
  },
  {
   "cell_type": "markdown",
   "id": "950686f1",
   "metadata": {},
   "source": [
    "- from the above  scatter plot we can observe from the age_rating vs year U rated movies were released in almost every year 12+,15+,G,pg,A rated movies started to release from the years 1980\n",
    "- from the above age_rating vs running_time scatter plot we can see that U/A13+ rating has highest running_time and PG,G,15+,12+ rated movies has running between100 and 200 \n"
   ]
  },
  {
   "cell_type": "markdown",
   "id": "f0593a30",
   "metadata": {},
   "source": [
    "# statistical analysis "
   ]
  },
  {
   "cell_type": "code",
   "execution_count": 59,
   "id": "670c009b",
   "metadata": {},
   "outputs": [
    {
     "data": {
      "text/html": [
       "<div>\n",
       "<style scoped>\n",
       "    .dataframe tbody tr th:only-of-type {\n",
       "        vertical-align: middle;\n",
       "    }\n",
       "\n",
       "    .dataframe tbody tr th {\n",
       "        vertical-align: top;\n",
       "    }\n",
       "\n",
       "    .dataframe thead th {\n",
       "        text-align: right;\n",
       "    }\n",
       "</style>\n",
       "<table border=\"1\" class=\"dataframe\">\n",
       "  <thead>\n",
       "    <tr style=\"text-align: right;\">\n",
       "      <th></th>\n",
       "      <th>title</th>\n",
       "      <th>description</th>\n",
       "      <th>genre</th>\n",
       "      <th>year</th>\n",
       "      <th>age_rating</th>\n",
       "      <th>running_time</th>\n",
       "      <th>type</th>\n",
       "    </tr>\n",
       "    <tr>\n",
       "      <th>hotstar_id</th>\n",
       "      <th></th>\n",
       "      <th></th>\n",
       "      <th></th>\n",
       "      <th></th>\n",
       "      <th></th>\n",
       "      <th></th>\n",
       "      <th></th>\n",
       "    </tr>\n",
       "  </thead>\n",
       "  <tbody>\n",
       "    <tr>\n",
       "      <th>1835064133</th>\n",
       "      <td>The Ring</td>\n",
       "      <td>Mutually divorced Aman emotionally struggles t...</td>\n",
       "      <td>Drama</td>\n",
       "      <td>2021</td>\n",
       "      <td>U/A 13+</td>\n",
       "      <td>17.0</td>\n",
       "      <td>movie</td>\n",
       "    </tr>\n",
       "    <tr>\n",
       "      <th>1260015636</th>\n",
       "      <td>Jesus: Rise To Power And Birth Of Christianity</td>\n",
       "      <td>A journey across the historic landscapes of th...</td>\n",
       "      <td>Documentary</td>\n",
       "      <td>2019</td>\n",
       "      <td>U/A 13+</td>\n",
       "      <td>42.0</td>\n",
       "      <td>movie</td>\n",
       "    </tr>\n",
       "    <tr>\n",
       "      <th>1000070418</th>\n",
       "      <td>Yama Muduru</td>\n",
       "      <td>Krishna Kumar is popular in college for his mu...</td>\n",
       "      <td>Drama</td>\n",
       "      <td>2009</td>\n",
       "      <td>U/A 13+</td>\n",
       "      <td>129.0</td>\n",
       "      <td>movie</td>\n",
       "    </tr>\n",
       "    <tr>\n",
       "      <th>1770000804</th>\n",
       "      <td>X-Men: The Last Stand</td>\n",
       "      <td>When humans find a cure for mutation, Professo...</td>\n",
       "      <td>Superhero</td>\n",
       "      <td>2006</td>\n",
       "      <td>U/A 13+</td>\n",
       "      <td>103.0</td>\n",
       "      <td>movie</td>\n",
       "    </tr>\n",
       "    <tr>\n",
       "      <th>1770005017</th>\n",
       "      <td>Mangalyaan: India's Mission To Mars</td>\n",
       "      <td>In this special, watch the 650 million km jour...</td>\n",
       "      <td>Documentary</td>\n",
       "      <td>2017</td>\n",
       "      <td>U</td>\n",
       "      <td>44.0</td>\n",
       "      <td>movie</td>\n",
       "    </tr>\n",
       "  </tbody>\n",
       "</table>\n",
       "</div>"
      ],
      "text/plain": [
       "                                                     title  \\\n",
       "hotstar_id                                                   \n",
       "1835064133                                        The Ring   \n",
       "1260015636  Jesus: Rise To Power And Birth Of Christianity   \n",
       "1000070418                                     Yama Muduru   \n",
       "1770000804                           X-Men: The Last Stand   \n",
       "1770005017             Mangalyaan: India's Mission To Mars   \n",
       "\n",
       "                                                  description        genre  \\\n",
       "hotstar_id                                                                   \n",
       "1835064133  Mutually divorced Aman emotionally struggles t...        Drama   \n",
       "1260015636  A journey across the historic landscapes of th...  Documentary   \n",
       "1000070418  Krishna Kumar is popular in college for his mu...        Drama   \n",
       "1770000804  When humans find a cure for mutation, Professo...    Superhero   \n",
       "1770005017  In this special, watch the 650 million km jour...  Documentary   \n",
       "\n",
       "            year age_rating  running_time   type  \n",
       "hotstar_id                                        \n",
       "1835064133  2021    U/A 13+          17.0  movie  \n",
       "1260015636  2019    U/A 13+          42.0  movie  \n",
       "1000070418  2009    U/A 13+         129.0  movie  \n",
       "1770000804  2006    U/A 13+         103.0  movie  \n",
       "1770005017  2017          U          44.0  movie  "
      ]
     },
     "execution_count": 59,
     "metadata": {},
     "output_type": "execute_result"
    }
   ],
   "source": [
    "data.head()"
   ]
  },
  {
   "cell_type": "code",
   "execution_count": 60,
   "id": "b3099c59",
   "metadata": {},
   "outputs": [
    {
     "data": {
      "text/plain": [
       "count      6336\n",
       "unique       35\n",
       "top       Drama\n",
       "freq       1806\n",
       "Name: genre, dtype: object"
      ]
     },
     "execution_count": 60,
     "metadata": {},
     "output_type": "execute_result"
    }
   ],
   "source": [
    "# describing genre varaible with describe function\n",
    "data.genre.describe()"
   ]
  },
  {
   "cell_type": "markdown",
   "id": "b08c9714",
   "metadata": {},
   "source": [
    "- there are 6359 rows present in genre row\n",
    "- 36 unique genres are there \n",
    "- the frequency of genre variable is 1809\n",
    "- it has object datatype"
   ]
  },
  {
   "cell_type": "code",
   "execution_count": 61,
   "id": "6ea3266d",
   "metadata": {},
   "outputs": [
    {
     "data": {
      "text/plain": [
       "count    6336.000000\n",
       "mean     2010.881155\n",
       "std        12.039159\n",
       "min      1928.000000\n",
       "25%      2008.000000\n",
       "50%      2015.000000\n",
       "75%      2019.000000\n",
       "max      2022.000000\n",
       "Name: year, dtype: float64"
      ]
     },
     "execution_count": 61,
     "metadata": {},
     "output_type": "execute_result"
    }
   ],
   "source": [
    "# describing year varaible with describe function\n",
    "data.year.describe()"
   ]
  },
  {
   "cell_type": "markdown",
   "id": "a19c89d7",
   "metadata": {},
   "source": [
    "- there are 6359 rows in year column\n",
    "- mean year is 2010\n",
    "- minimum number of movies were released in the year 2008 \n",
    "- 50% of movies were released in the year 2015\n",
    "- 75% of movies were released in the  year 2019\n",
    "- max were relesed in 2022\n",
    "- it has float64 data  type"
   ]
  },
  {
   "cell_type": "code",
   "execution_count": 62,
   "id": "af36ee8d",
   "metadata": {},
   "outputs": [
    {
     "data": {
      "text/plain": [
       "count        6336\n",
       "unique          9\n",
       "top       U/A 13+\n",
       "freq         2598\n",
       "Name: age_rating, dtype: object"
      ]
     },
     "execution_count": 62,
     "metadata": {},
     "output_type": "execute_result"
    }
   ],
   "source": [
    "# describing age_rating varaible with describe function\n",
    "data.age_rating.describe()"
   ]
  },
  {
   "cell_type": "markdown",
   "id": "cd98f07c",
   "metadata": {},
   "source": [
    "- there are 6359 rows\n",
    "- there are 22 types of ratings\n",
    "- highest there are U/A 13+ movies or tv shows \n",
    "- its frequency is  2598"
   ]
  },
  {
   "cell_type": "code",
   "execution_count": 63,
   "id": "e217baa3",
   "metadata": {},
   "outputs": [
    {
     "data": {
      "text/plain": [
       "count    5738.000000\n",
       "mean      127.645312\n",
       "std        32.534531\n",
       "min        28.000000\n",
       "25%       106.000000\n",
       "50%       131.000000\n",
       "75%       150.000000\n",
       "max       200.000000\n",
       "Name: running_time, dtype: float64"
      ]
     },
     "execution_count": 63,
     "metadata": {},
     "output_type": "execute_result"
    }
   ],
   "source": [
    "# describing running_time  varaible with describe function\n",
    "data_no.running_time.describe()"
   ]
  },
  {
   "cell_type": "markdown",
   "id": "a42fc47e",
   "metadata": {},
   "source": [
    "- there are 5738 rows in seasons column\n",
    "- mean running_time is 127 minutes\n",
    "- minimum  running_time is 28 minutes\n",
    "- there 25% of 106 minutes of movies/tv shows\n",
    "- there are 50% of 131 minutes of movies/tv shows\n",
    "- there are 75% of 150 minutes of movies/tv shows\n",
    "- maximum  running_time is 200 minutes\n",
    "- it has float64 data type\n",
    "- std is 32 running_time"
   ]
  },
  {
   "cell_type": "code",
   "execution_count": 64,
   "id": "c3608de4",
   "metadata": {},
   "outputs": [
    {
     "data": {
      "text/plain": [
       "count      6336\n",
       "unique        2\n",
       "top       movie\n",
       "freq       4188\n",
       "Name: type, dtype: object"
      ]
     },
     "execution_count": 64,
     "metadata": {},
     "output_type": "execute_result"
    }
   ],
   "source": [
    "# describing type  varaible with describe function\n",
    "data.type.describe()"
   ]
  },
  {
   "cell_type": "markdown",
   "id": "18c7e858",
   "metadata": {},
   "source": [
    "- there are 6359 rows\n",
    "- there are two types shows \n",
    "- frequency is 4188\n",
    "- datatype is object"
   ]
  },
  {
   "cell_type": "markdown",
   "id": "83c6e8c1",
   "metadata": {},
   "source": [
    "## Movie or Tv show having highest running time??"
   ]
  },
  {
   "cell_type": "code",
   "execution_count": 112,
   "id": "11b41b5d",
   "metadata": {},
   "outputs": [
    {
     "data": {
      "text/plain": [
       "hotstar_id\n",
       "1260103078             Ardhangi\n",
       "1260058837    Life Love Siyaapa\n",
       "Name: title, dtype: object"
      ]
     },
     "execution_count": 112,
     "metadata": {},
     "output_type": "execute_result"
    }
   ],
   "source": [
    " data[data.running_time == data.running_time.max()][\"title\"]\n"
   ]
  },
  {
   "cell_type": "markdown",
   "id": "07f28c6b",
   "metadata": {},
   "source": [
    "- we can see that the titles Ardhangi and Life Love siyaapa have highest running time."
   ]
  },
  {
   "cell_type": "markdown",
   "id": "9f5e4a46",
   "metadata": {},
   "source": [
    "## Movie or tv show having lowest running time ?"
   ]
  },
  {
   "cell_type": "code",
   "execution_count": 114,
   "id": "fcde2178",
   "metadata": {},
   "outputs": [
    {
     "data": {
      "text/plain": [
       "hotstar_id\n",
       "1260011614          Can You Ever Forgive Me?\n",
       "1260073525             America the Beautiful\n",
       "1770021090                   Too Big To Fail\n",
       "1000101920                     Bilee Hendthi\n",
       "1000163619                        Varnatheru\n",
       "1260073526    Limitless with Chris Hemsworth\n",
       "1260073527                    Obi-Wan Kenobi\n",
       "1000207957                Udaharanam Sujatha\n",
       "1000019465                            Raqeeb\n",
       "1770000936                            Hitman\n",
       "1260105332             Dil se Raksha Bandhan\n",
       "1260084466                          Shanghai\n",
       "1260023108                Cars Toon: Hiccups\n",
       "Name: title, dtype: object"
      ]
     },
     "execution_count": 114,
     "metadata": {},
     "output_type": "execute_result"
    }
   ],
   "source": [
    "data[data.running_time == data.running_time.min()][\"title\"]"
   ]
  },
  {
   "cell_type": "markdown",
   "id": "59ecc2c0",
   "metadata": {},
   "source": [
    "- The above results shows that the titles 'Can You Ever Forgive Me?','America the Beautiful','Too Big To Fail','Bilee Hendthi','   Varnatheru','Limitless with Chris Hemsworth','Obi-Wan Kenobi','Udaharanam Sujatha','Raqeeb','Hitman', 'Dil se Raksha Bandhan','Shanghai', 'Cars Toon: Hiccups' have lowest running time. "
   ]
  },
  {
   "cell_type": "markdown",
   "id": "d5070f46",
   "metadata": {},
   "source": [
    "##  Which Movie/Tv Show  age ratted 'U/A +' have highest running time? "
   ]
  },
  {
   "cell_type": "code",
   "execution_count": 93,
   "id": "11e391a5",
   "metadata": {},
   "outputs": [
    {
     "data": {
      "text/html": [
       "<div>\n",
       "<style scoped>\n",
       "    .dataframe tbody tr th:only-of-type {\n",
       "        vertical-align: middle;\n",
       "    }\n",
       "\n",
       "    .dataframe tbody tr th {\n",
       "        vertical-align: top;\n",
       "    }\n",
       "\n",
       "    .dataframe thead th {\n",
       "        text-align: right;\n",
       "    }\n",
       "</style>\n",
       "<table border=\"1\" class=\"dataframe\">\n",
       "  <thead>\n",
       "    <tr style=\"text-align: right;\">\n",
       "      <th></th>\n",
       "      <th>title</th>\n",
       "      <th>description</th>\n",
       "      <th>genre</th>\n",
       "      <th>year</th>\n",
       "      <th>age_rating</th>\n",
       "      <th>running_time</th>\n",
       "      <th>type</th>\n",
       "    </tr>\n",
       "    <tr>\n",
       "      <th>hotstar_id</th>\n",
       "      <th></th>\n",
       "      <th></th>\n",
       "      <th></th>\n",
       "      <th></th>\n",
       "      <th></th>\n",
       "      <th></th>\n",
       "      <th></th>\n",
       "    </tr>\n",
       "  </thead>\n",
       "  <tbody>\n",
       "    <tr>\n",
       "      <th>13261</th>\n",
       "      <td>Mahayaga</td>\n",
       "      <td>The stars of the show, Hara Hara Mahadeva, tak...</td>\n",
       "      <td>Reality</td>\n",
       "      <td>2017</td>\n",
       "      <td>U/A 7+</td>\n",
       "      <td>200.0</td>\n",
       "      <td>tv</td>\n",
       "    </tr>\n",
       "    <tr>\n",
       "      <th>6478</th>\n",
       "      <td>Life OK Prem Ki Diwali</td>\n",
       "      <td>\"Watch Salman Khan and Sonam Kapoor's grand Di...</td>\n",
       "      <td>Reality</td>\n",
       "      <td>2015</td>\n",
       "      <td>U/A 7+</td>\n",
       "      <td>200.0</td>\n",
       "      <td>tv</td>\n",
       "    </tr>\n",
       "    <tr>\n",
       "      <th>1260031885</th>\n",
       "      <td>Bunk'd</td>\n",
       "      <td>Emma Zuri and Ravi leave the city and head to ...</td>\n",
       "      <td>Comedy</td>\n",
       "      <td>2015</td>\n",
       "      <td>U/A 7+</td>\n",
       "      <td>200.0</td>\n",
       "      <td>tv</td>\n",
       "    </tr>\n",
       "    <tr>\n",
       "      <th>1260029345</th>\n",
       "      <td>Ultimate Supercar</td>\n",
       "      <td>The series offers a behind the scenes look at ...</td>\n",
       "      <td>Science</td>\n",
       "      <td>2021</td>\n",
       "      <td>U/A 7+</td>\n",
       "      <td>200.0</td>\n",
       "      <td>tv</td>\n",
       "    </tr>\n",
       "  </tbody>\n",
       "</table>\n",
       "</div>"
      ],
      "text/plain": [
       "                             title  \\\n",
       "hotstar_id                           \n",
       "13261                     Mahayaga   \n",
       "6478        Life OK Prem Ki Diwali   \n",
       "1260031885                  Bunk'd   \n",
       "1260029345       Ultimate Supercar   \n",
       "\n",
       "                                                  description    genre  year  \\\n",
       "hotstar_id                                                                     \n",
       "13261       The stars of the show, Hara Hara Mahadeva, tak...  Reality  2017   \n",
       "6478        \"Watch Salman Khan and Sonam Kapoor's grand Di...  Reality  2015   \n",
       "1260031885  Emma Zuri and Ravi leave the city and head to ...   Comedy  2015   \n",
       "1260029345  The series offers a behind the scenes look at ...  Science  2021   \n",
       "\n",
       "           age_rating  running_time type  \n",
       "hotstar_id                                \n",
       "13261          U/A 7+         200.0   tv  \n",
       "6478           U/A 7+         200.0   tv  \n",
       "1260031885     U/A 7+         200.0   tv  \n",
       "1260029345     U/A 7+         200.0   tv  "
      ]
     },
     "execution_count": 93,
     "metadata": {},
     "output_type": "execute_result"
    }
   ],
   "source": [
    "data[data['age_rating'] == 'U/A +'].sort_values(by = 'running_time', ascending = False).head(4)"
   ]
  },
  {
   "cell_type": "markdown",
   "id": "848827be",
   "metadata": {},
   "source": [
    "- Mahayaga,Life OK Prem Ki Diwali,Bunk'd,Ultimate Supercar titled Movies or tv shows has highest the running time in U/A + category."
   ]
  },
  {
   "cell_type": "markdown",
   "id": "f6516bd9",
   "metadata": {},
   "source": [
    "##  Which Movie/Tv Show  age ratted '15+' have highest running time? "
   ]
  },
  {
   "cell_type": "code",
   "execution_count": 99,
   "id": "6922a3e8",
   "metadata": {},
   "outputs": [
    {
     "data": {
      "text/html": [
       "<div>\n",
       "<style scoped>\n",
       "    .dataframe tbody tr th:only-of-type {\n",
       "        vertical-align: middle;\n",
       "    }\n",
       "\n",
       "    .dataframe tbody tr th {\n",
       "        vertical-align: top;\n",
       "    }\n",
       "\n",
       "    .dataframe thead th {\n",
       "        text-align: right;\n",
       "    }\n",
       "</style>\n",
       "<table border=\"1\" class=\"dataframe\">\n",
       "  <thead>\n",
       "    <tr style=\"text-align: right;\">\n",
       "      <th></th>\n",
       "      <th>title</th>\n",
       "      <th>description</th>\n",
       "      <th>genre</th>\n",
       "      <th>year</th>\n",
       "      <th>age_rating</th>\n",
       "      <th>running_time</th>\n",
       "      <th>type</th>\n",
       "    </tr>\n",
       "    <tr>\n",
       "      <th>hotstar_id</th>\n",
       "      <th></th>\n",
       "      <th></th>\n",
       "      <th></th>\n",
       "      <th></th>\n",
       "      <th></th>\n",
       "      <th></th>\n",
       "      <th></th>\n",
       "    </tr>\n",
       "  </thead>\n",
       "  <tbody>\n",
       "    <tr>\n",
       "      <th>15257</th>\n",
       "      <td>Yes Or No</td>\n",
       "      <td>Time to root for your favourite stars! A uniqu...</td>\n",
       "      <td>Reality</td>\n",
       "      <td>2017</td>\n",
       "      <td>15+</td>\n",
       "      <td>200.0</td>\n",
       "      <td>tv</td>\n",
       "    </tr>\n",
       "    <tr>\n",
       "      <th>3043</th>\n",
       "      <td>Nirbhaya</td>\n",
       "      <td>Nirbhaya aims at creating an awareness about t...</td>\n",
       "      <td>Crime</td>\n",
       "      <td>2015</td>\n",
       "      <td>15+</td>\n",
       "      <td>200.0</td>\n",
       "      <td>tv</td>\n",
       "    </tr>\n",
       "    <tr>\n",
       "      <th>1260000389</th>\n",
       "      <td>White Matter</td>\n",
       "      <td>Eyeing the Nobel Prize, eccentric scientist Dr...</td>\n",
       "      <td>Drama</td>\n",
       "      <td>2018</td>\n",
       "      <td>15+</td>\n",
       "      <td>150.0</td>\n",
       "      <td>tv</td>\n",
       "    </tr>\n",
       "    <tr>\n",
       "      <th>10637</th>\n",
       "      <td>Nadandhadhu Enna</td>\n",
       "      <td>An investigative show that probes into untold ...</td>\n",
       "      <td>Crime</td>\n",
       "      <td>2016</td>\n",
       "      <td>15+</td>\n",
       "      <td>150.0</td>\n",
       "      <td>tv</td>\n",
       "    </tr>\n",
       "  </tbody>\n",
       "</table>\n",
       "</div>"
      ],
      "text/plain": [
       "                       title  \\\n",
       "hotstar_id                     \n",
       "15257              Yes Or No   \n",
       "3043                Nirbhaya   \n",
       "1260000389      White Matter   \n",
       "10637       Nadandhadhu Enna   \n",
       "\n",
       "                                                  description    genre  year  \\\n",
       "hotstar_id                                                                     \n",
       "15257       Time to root for your favourite stars! A uniqu...  Reality  2017   \n",
       "3043        Nirbhaya aims at creating an awareness about t...    Crime  2015   \n",
       "1260000389  Eyeing the Nobel Prize, eccentric scientist Dr...    Drama  2018   \n",
       "10637       An investigative show that probes into untold ...    Crime  2016   \n",
       "\n",
       "           age_rating  running_time type  \n",
       "hotstar_id                                \n",
       "15257             15+         200.0   tv  \n",
       "3043              15+         200.0   tv  \n",
       "1260000389        15+         150.0   tv  \n",
       "10637             15+         150.0   tv  "
      ]
     },
     "execution_count": 99,
     "metadata": {},
     "output_type": "execute_result"
    }
   ],
   "source": [
    "data[data['age_rating'] == '15+'].sort_values(by = 'running_time', ascending = False).head(4)"
   ]
  },
  {
   "cell_type": "markdown",
   "id": "04e65624",
   "metadata": {},
   "source": [
    "- Yes Or No, Nirbhaya, White Matter, Nadandhadhu Enna titled Movies or tv shows has highest the running time in 15 + category."
   ]
  },
  {
   "cell_type": "markdown",
   "id": "2973f833",
   "metadata": {},
   "source": [
    "## Which Type has Highest Running Movie  or TvShow ?"
   ]
  },
  {
   "cell_type": "code",
   "execution_count": 120,
   "id": "fd5b0c1d",
   "metadata": {},
   "outputs": [
    {
     "data": {
      "text/plain": [
       "hotstar_id\n",
       "1260103078    tv\n",
       "1260058837    tv\n",
       "Name: type, dtype: object"
      ]
     },
     "execution_count": 120,
     "metadata": {},
     "output_type": "execute_result"
    }
   ],
   "source": [
    " data[data.running_time == data.running_time.max()][\"type\"]"
   ]
  },
  {
   "cell_type": "markdown",
   "id": "5e106215",
   "metadata": {},
   "source": [
    "- the movie or tvshow having highest running time is belongs to tv type"
   ]
  },
  {
   "cell_type": "markdown",
   "id": "78c498b0",
   "metadata": {},
   "source": [
    "## Which Genre Movie or Tvshow has highest and lowest running time?"
   ]
  },
  {
   "cell_type": "code",
   "execution_count": 125,
   "id": "ecefacd9",
   "metadata": {},
   "outputs": [
    {
     "data": {
      "text/plain": [
       "hotstar_id\n",
       "1260103078     Family\n",
       "1260058837    Romance\n",
       "Name: genre, dtype: object"
      ]
     },
     "execution_count": 125,
     "metadata": {},
     "output_type": "execute_result"
    }
   ],
   "source": [
    " data[data.running_time == data.running_time.max()][\"genre\"]"
   ]
  },
  {
   "cell_type": "code",
   "execution_count": 127,
   "id": "e0333728",
   "metadata": {},
   "outputs": [
    {
     "data": {
      "text/plain": [
       "hotstar_id\n",
       "1260011614          Historical\n",
       "1260073525    Animals & Nature\n",
       "1770021090              Biopic\n",
       "1000101920               Drama\n",
       "1000163619               Drama\n",
       "1260073526         Documentary\n",
       "1260073527         Documentary\n",
       "1000207957               Drama\n",
       "1000019465            Thriller\n",
       "1770000936              Action\n",
       "1260105332               Drama\n",
       "1260084466               Crime\n",
       "1260023108           Animation\n",
       "Name: genre, dtype: object"
      ]
     },
     "execution_count": 127,
     "metadata": {},
     "output_type": "execute_result"
    }
   ],
   "source": [
    " data[data.running_time == data.running_time.min()][\"genre\"]"
   ]
  },
  {
   "cell_type": "markdown",
   "id": "f70adc2f",
   "metadata": {},
   "source": [
    "- Family and Romance Genre  movie tv shows have Highest running time\n",
    "-  Historical, Animals & Nature,  Biopic,  Drama,Documentary,Thriller, Action,Crime and Animation genred movie or tv show have     lowest running time "
   ]
  },
  {
   "cell_type": "code",
   "execution_count": null,
   "id": "df2731ac",
   "metadata": {},
   "outputs": [],
   "source": []
  }
 ],
 "metadata": {
  "kernelspec": {
   "display_name": "Python 3 (ipykernel)",
   "language": "python",
   "name": "python3"
  },
  "language_info": {
   "codemirror_mode": {
    "name": "ipython",
    "version": 3
   },
   "file_extension": ".py",
   "mimetype": "text/x-python",
   "name": "python",
   "nbconvert_exporter": "python",
   "pygments_lexer": "ipython3",
   "version": "3.9.7"
  }
 },
 "nbformat": 4,
 "nbformat_minor": 5
}
